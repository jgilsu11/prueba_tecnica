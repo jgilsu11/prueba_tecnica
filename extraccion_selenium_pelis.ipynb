{
 "cells": [
  {
   "cell_type": "code",
   "execution_count": 1,
   "metadata": {},
   "outputs": [],
   "source": [
    "import pandas as pd\n",
    "import numpy as np\n",
    "import requests\n",
    "import os\n",
    "import sys\n",
    "import json\n",
    "import dotenv\n",
    "dotenv.load_dotenv()\n",
    "\n",
    "\n",
    "from tqdm import tqdm\n",
    "from time import sleep\n",
    "from bs4 import BeautifulSoup\n",
    "import random\n",
    "from selenium import webdriver  \n",
    "from webdriver_manager.chrome import ChromeDriverManager  \n",
    "from selenium.webdriver.common.keys import Keys  \n",
    "from selenium.webdriver.support.ui import Select  \n",
    "from selenium.webdriver.support.ui import WebDriverWait\n",
    "from selenium.webdriver.support import expected_conditions as EC\n",
    "from selenium.common.exceptions import NoSuchElementException\n",
    "\n",
    "\n",
    "import sys \n",
    "sys.path.append(os.path.abspath(\"src\"))   \n",
    "import src_funciones as f"
   ]
  },
  {
   "cell_type": "markdown",
   "metadata": {},
   "source": [
    "### Fase 2: Extracción de Detalles de Películas con Selenium\n",
    "Utiliza Selenium para obtener información adicional de las películas listadas previamente.\n",
    "\n",
    "**Información requerida:**\n",
    "- Calificación de IMDB.\n",
    "- Dirección (director o directores).\n",
    "- Guionistas.\n",
    "- Argumento.\n",
    "- Duración (en minutos).\n",
    "\n",
    "**Nota:** Los datos obtenidos deberán almacenarse en una lista de tuplas.\n",
    "\n",
    "---"
   ]
  },
  {
   "cell_type": "code",
   "execution_count": 46,
   "metadata": {},
   "outputs": [],
   "source": [
    "lista_id_prueba=[\"tt1649419\",\"tt0317219\",\"tt1877830\",\"tt1216475\"]\n",
    "anio=2024"
   ]
  },
  {
   "cell_type": "markdown",
   "metadata": {},
   "source": [
    "Esto funciona para una"
   ]
  },
  {
   "cell_type": "code",
   "execution_count": 37,
   "metadata": {},
   "outputs": [],
   "source": [
    "lista_score=[]\n",
    "lista_directores=[]\n",
    "lista_guionistas=[]\n",
    "lista_argumentos=[]\n",
    "lista_duraciones=[]\n",
    "driver = webdriver.Chrome()\n",
    "url_wunder = \"https://www.imdb.com/es-es/\"     #https://www.imdb.com/find/?q=avatar%202009&ref_=nv_sr_sm     f\"https://www.imdb.com/find/?q={nombre-peli}%20{anio_peli}&ref_=nv_sr_sm\"\n",
    "driver.get(url_wunder)\n",
    "driver.maximize_window()\n",
    "driver.implicitly_wait(12)\n",
    "#me quito las cookies\n",
    "driver.find_element(\"css selector\", \"#__next > div > div > div.sc-jrcTuL.bPmWiM > div > button.icb-btn.sc-bcXHqe.sc-hLBbgP.sc-ftTHYK.dcvrLS.dufgkr.ecppKW\").click()\n",
    "\n",
    "#hago el click en el buscador\n",
    "driver.find_element(\"css selector\", \"#suggestion-search\").click()\n",
    "\n",
    "#meto el id de la peli\n",
    "driver.find_element(\"css selector\", \"#suggestion-search\").send_keys(\"tt1649419\", Keys.ENTER)\n",
    "\n",
    "#saco el score\n",
    "texto=driver.find_element(\"css selector\",\"#__next > main > div > section.ipc-page-background.ipc-page-background--base.sc-afa4bed1-0.iMxoKo > section > div:nth-child(5) > section > section > div.sc-9a2a0028-3.bwWOiy > div.sc-3a4309f8-0.jJkxPn.sc-70a366cc-1.kUfGfN > div > div:nth-child(1) > a > span > div > div.sc-d541859f-0.hNIoIx > div.sc-d541859f-2.kxphVf > span.sc-d541859f-1.imUuxf\").text\n",
    "lista_score.append(texto)\n",
    "\n",
    "#saco direccion\n",
    "texto2=driver.find_element(\"css selector\",\"#__next > main > div > section.ipc-page-background.ipc-page-background--base.sc-afa4bed1-0.iMxoKo > section > div:nth-child(5) > section > section > div.sc-9a2a0028-4.eeUUGv > div.sc-9a2a0028-6.zHrZh > div.sc-9a2a0028-10.iUfJXd > section > div.sc-70a366cc-3.iwmAOx > div > ul > li:nth-child(1) > div\").text\n",
    "lista_directores.append(texto2)\n",
    "\n",
    "#saco guionistas\n",
    "texto3=driver.find_element(\"css selector\", \"#__next > main > div > section.ipc-page-background.ipc-page-background--base.sc-afa4bed1-0.iMxoKo > section > div:nth-child(5) > section > section > div.sc-9a2a0028-4.eeUUGv > div.sc-9a2a0028-6.zHrZh > div.sc-9a2a0028-10.iUfJXd > section > div.sc-70a366cc-3.iwmAOx > div > ul > li:nth-child(2)\").text\n",
    "lista_guionistas.append(texto3)\n",
    "\n",
    "driver.execute_script(\"window.scrollBy(0, 4000);\")  \n",
    "sleep(4)\n",
    "\n",
    "#saco argumento\n",
    "texto4=driver.find_element(\"css selector\", \"#__next > main > div > section.ipc-page-background.ipc-page-background--base.sc-afa4bed1-0.iMxoKo > div > section > div > div.sc-65d2a03-1.hLElui.ipc-page-grid__item.ipc-page-grid__item--span-2 > section:nth-child(26) > div.sc-d6b15a1a-0.bfFXAE > div.ipc-overflowText.ipc-overflowText--pageSection.ipc-overflowText--base\").text\n",
    "lista_argumentos.append(texto4)\n",
    "\n",
    "#saco duracion\n",
    "texto5=driver.find_element(\"css selector\",\"#__next > main > div > section.ipc-page-background.ipc-page-background--base.sc-afa4bed1-0.iMxoKo > section > div:nth-child(5) > section > section > div.sc-9a2a0028-3.bwWOiy > div.sc-70a366cc-0.bxYZmb > ul > li:nth-child(3)\").text\n",
    "lista_duraciones.append(texto5)"
   ]
  },
  {
   "cell_type": "code",
   "execution_count": 38,
   "metadata": {},
   "outputs": [
    {
     "data": {
      "text/plain": [
       "['7,5']"
      ]
     },
     "execution_count": 38,
     "metadata": {},
     "output_type": "execute_result"
    }
   ],
   "source": [
    "lista_score"
   ]
  },
  {
   "cell_type": "code",
   "execution_count": 39,
   "metadata": {},
   "outputs": [
    {
     "data": {
      "text/plain": [
       "['J.A. Bayona']"
      ]
     },
     "execution_count": 39,
     "metadata": {},
     "output_type": "execute_result"
    }
   ],
   "source": [
    "lista_directores"
   ]
  },
  {
   "cell_type": "code",
   "execution_count": 40,
   "metadata": {},
   "outputs": [
    {
     "data": {
      "text/plain": [
       "['Guión\\nSergio G. SánchezMaría Belón']"
      ]
     },
     "execution_count": 40,
     "metadata": {},
     "output_type": "execute_result"
    }
   ],
   "source": [
    "lista_guionistas"
   ]
  },
  {
   "cell_type": "code",
   "execution_count": 41,
   "metadata": {},
   "outputs": [
    {
     "data": {
      "text/plain": [
       "['A regular family - Maria (Naomi Watts), Henry (Ewan McGregor) and their three kids - travel to Thailand to spend Christmas. They get an upgrade to a villa on the coastline. After settling in and exchanging gifts, they go to the pool, like so many other tourists. A perfect paradise vacation until a distant noise becomes a roar. There is no time to escape from the tsunami; Maria and her eldest are swept one way, Henry and the youngest another. Who will survive, and what will become of them? —Ronaldo Ferreira']"
      ]
     },
     "execution_count": 41,
     "metadata": {},
     "output_type": "execute_result"
    }
   ],
   "source": [
    "lista_argumentos"
   ]
  },
  {
   "cell_type": "code",
   "execution_count": 42,
   "metadata": {},
   "outputs": [
    {
     "data": {
      "text/plain": [
       "['1h 54min']"
      ]
     },
     "execution_count": 42,
     "metadata": {},
     "output_type": "execute_result"
    }
   ],
   "source": [
    "lista_duraciones"
   ]
  },
  {
   "cell_type": "code",
   "execution_count": 61,
   "metadata": {},
   "outputs": [],
   "source": [
    "lista_score=[]\n",
    "lista_directores=[]\n",
    "lista_guionistas=[]\n",
    "lista_argumentos=[]\n",
    "lista_duraciones=[]\n",
    "driver = webdriver.Chrome()\n",
    "url_wunder = \"https://www.imdb.com/es-es/\"     #https://www.imdb.com/find/?q=avatar%202009&ref_=nv_sr_sm     f\"https://www.imdb.com/find/?q={nombre-peli}%20{anio_peli}&ref_=nv_sr_sm\"\n",
    "driver.get(url_wunder)\n",
    "driver.maximize_window()\n",
    "driver.implicitly_wait(12)\n",
    "#me quito las cookies\n",
    "driver.find_element(\"css selector\", \"#__next > div > div > div.sc-jrcTuL.bPmWiM > div > button.icb-btn.sc-bcXHqe.sc-hLBbgP.sc-ftTHYK.dcvrLS.dufgkr.ecppKW\").click()\n",
    "\n",
    "#hago el click en el buscador\n",
    "driver.find_element(\"css selector\", \"#suggestion-search\").click()\n",
    "for id in lista_id_prueba:\n",
    "    #meto el id de la peli\n",
    "    driver.find_element(\"css selector\", \"#suggestion-search\").send_keys(id, Keys.ENTER)\n",
    "\n",
    "    #saco el score\n",
    "    texto=driver.find_element(\"css selector\",\"#__next > main > div > section.ipc-page-background.ipc-page-background--base.sc-afa4bed1-0.iMxoKo > section > div:nth-child(5) > section > section > div.sc-9a2a0028-3.bwWOiy > div.sc-3a4309f8-0.jJkxPn.sc-70a366cc-1.kUfGfN > div > div:nth-child(1) > a > span > div > div.sc-d541859f-0.hNIoIx > div.sc-d541859f-2.kxphVf > span.sc-d541859f-1.imUuxf\").text\n",
    "    lista_score.append(texto)\n",
    "\n",
    "    #saco direccion\n",
    "    texto2=driver.find_element(\"css selector\",\"#__next > main > div > section.ipc-page-background.ipc-page-background--base.sc-afa4bed1-0.iMxoKo > section > div:nth-child(5) > section > section > div.sc-9a2a0028-4.eeUUGv > div.sc-9a2a0028-6.zHrZh > div.sc-9a2a0028-10.iUfJXd > section > div.sc-70a366cc-3.iwmAOx > div > ul > li:nth-child(1) > div\").text\n",
    "    lista_directores.append(texto2)\n",
    "\n",
    "    #saco guionistas\n",
    "    texto3=driver.find_element(\"css selector\", \"#__next > main > div > section.ipc-page-background.ipc-page-background--base.sc-afa4bed1-0.iMxoKo > section > div:nth-child(5) > section > section > div.sc-9a2a0028-4.eeUUGv > div.sc-9a2a0028-6.zHrZh > div.sc-9a2a0028-10.iUfJXd > section > div.sc-70a366cc-3.iwmAOx > div > ul > li:nth-child(2)\").text\n",
    "    lista_guionistas.append(texto3)\n",
    "\n",
    "    driver.execute_script(\"window.scrollBy(0, 4000);\")  \n",
    "    sleep(4)\n",
    "\n",
    "    #saco argumento\n",
    "    texto4=driver.find_element(\"css selector\", \"#__next > main > div > section.ipc-page-background.ipc-page-background--base.sc-afa4bed1-0.iMxoKo > div > section > div > div.sc-65d2a03-1.hLElui.ipc-page-grid__item.ipc-page-grid__item--span-2 > section:nth-child(26) > div.sc-d6b15a1a-0.bfFXAE > div.ipc-overflowText.ipc-overflowText--pageSection.ipc-overflowText--base\").text\n",
    "    lista_argumentos.append(texto4)\n",
    "\n",
    "    #saco duracion\n",
    "    texto5=driver.find_element(\"css selector\",\"#__next > main > div > section.ipc-page-background.ipc-page-background--base.sc-afa4bed1-0.iMxoKo > section > div:nth-child(5) > section > section > div.sc-9a2a0028-3.bwWOiy > div.sc-70a366cc-0.bxYZmb > ul > li:nth-child(3)\").text\n",
    "    lista_duraciones.append(texto5)"
   ]
  },
  {
   "cell_type": "code",
   "execution_count": 62,
   "metadata": {},
   "outputs": [
    {
     "data": {
      "text/plain": [
       "['7,5', '7,3', '7,8', '6,2']"
      ]
     },
     "execution_count": 62,
     "metadata": {},
     "output_type": "execute_result"
    }
   ],
   "source": [
    "lista_score"
   ]
  },
  {
   "cell_type": "code",
   "execution_count": 63,
   "metadata": {},
   "outputs": [
    {
     "data": {
      "text/plain": [
       "['J.A. Bayona',\n",
       " 'John LasseterJoe Ranft',\n",
       " 'Matt Reeves',\n",
       " 'John LasseterBradford Lewis']"
      ]
     },
     "execution_count": 63,
     "metadata": {},
     "output_type": "execute_result"
    }
   ],
   "source": [
    "lista_directores"
   ]
  },
  {
   "cell_type": "code",
   "execution_count": 64,
   "metadata": {},
   "outputs": [
    {
     "data": {
      "text/plain": [
       "['Guión\\nSergio G. SánchezMaría Belón',\n",
       " 'Guión\\nJohn LasseterJoe RanftJorgen Klubien',\n",
       " 'Guión\\nMatt ReevesPeter CraigBob Kane',\n",
       " 'Guión\\nJohn LasseterBradford LewisDan Fogelman']"
      ]
     },
     "execution_count": 64,
     "metadata": {},
     "output_type": "execute_result"
    }
   ],
   "source": [
    "lista_guionistas"
   ]
  },
  {
   "cell_type": "code",
   "execution_count": 65,
   "metadata": {},
   "outputs": [
    {
     "data": {
      "text/plain": [
       "['A regular family - Maria (Naomi Watts), Henry (Ewan McGregor) and their three kids - travel to Thailand to spend Christmas. They get an upgrade to a villa on the coastline. After settling in and exchanging gifts, they go to the pool, like so many other tourists. A perfect paradise vacation until a distant noise becomes a roar. There is no time to escape from the tsunami; Maria and her eldest are swept one way, Henry and the youngest another. Who will survive, and what will become of them? —Ronaldo Ferreira',\n",
       " 'While traveling to California for the dispute of the final race of the Piston Cup against The King and Chick Hicks, the famous Lightning McQueen accidentally damages the road of the small town Radiator Springs and is sentenced to repair it. Lightning McQueen has to work hard and finds friendship and love in the simple locals, changing its values during his stay in the small town and becoming a true winner. —Claudio Carvalho, Rio de Janeiro, Brazil',\n",
       " 'Two years of nights have turned Bruce Wayne into a nocturnal animal. But as he continues to find his way as Gotham\\'s dark knight Bruce is forced into a game of cat and mouse with his biggest threat so far, a manic killer known as \"The Riddler\" who is filled with rage and determined to expose the corrupt system whilst picking off all of Gotham\\'s key political figures. Working with both established and new allies, Bruce must track down the killer and see him brought to justice, while investigating his father\\'s true legacy and questioning the effect that he has had on Gotham so far as \"The Batman.\" —jc-15610',\n",
       " \"The famous race car Lightning McQueen and his team are invited to compete in the World Grand Prix race. There, McQueen's best friend Mater finds himself involved in international espionage, and alongside two professional British spies attempts to uncover a secret plan led by a mysterious mastermind and his criminal gang, which threatens the lives of all competitors in the tournament. —MadMovieManiac\"]"
      ]
     },
     "execution_count": 65,
     "metadata": {},
     "output_type": "execute_result"
    }
   ],
   "source": [
    "lista_argumentos"
   ]
  },
  {
   "cell_type": "code",
   "execution_count": 66,
   "metadata": {},
   "outputs": [
    {
     "data": {
      "text/plain": [
       "['1h 54min', '1h 56min', '2h 56min', '1h 46min']"
      ]
     },
     "execution_count": 66,
     "metadata": {},
     "output_type": "execute_result"
    }
   ],
   "source": [
    "lista_duraciones"
   ]
  },
  {
   "cell_type": "code",
   "execution_count": null,
   "metadata": {},
   "outputs": [],
   "source": []
  },
  {
   "cell_type": "markdown",
   "metadata": {},
   "source": [
    "### Fase 3: Extracción de Detalles de Actores con Selenium\n",
    "Obtén información sobre los 10 actores principales de cada película o corto utilizando Selenium.\n",
    "\n",
    "**Información requerida:**\n",
    "- Nombre.\n",
    "- Año de nacimiento.\n",
    "- Por qué es conocido.\n",
    "- Roles (actuación, dirección, etc.).\n",
    "- Premios.\n",
    "\n",
    "**Nota:** La información deberá almacenarse en una lista de tuplas.\n",
    "\n",
    "---"
   ]
  },
  {
   "cell_type": "code",
   "execution_count": null,
   "metadata": {},
   "outputs": [],
   "source": []
  },
  {
   "cell_type": "markdown",
   "metadata": {},
   "source": [
    "### Fase 4: Creación de un Sistema de Recomendación\n",
    "Diseña y desarrolla un sistema de recomendación basado en los datos recopilados.\n",
    "\n",
    "**Modelos recomendados:**\n",
    "- **Modelo colaborativo:** Basado en las preferencias de los usuarios.\n",
    "- **Modelo basado en contenido:** Considerando géneros, directores y calificaciones.\n",
    "\n",
    "El sistema debe permitir sugerir películas personalizadas para diferentes tipos de usuarios.\n",
    "\n",
    "---"
   ]
  },
  {
   "cell_type": "code",
   "execution_count": null,
   "metadata": {},
   "outputs": [],
   "source": []
  },
  {
   "cell_type": "markdown",
   "metadata": {},
   "source": [
    "### Fase 5: Creación de una Base de Datos\n",
    "Organiza toda la información recopilada en una base de datos SQL bien estructurada. Define las tablas y relaciones necesarias para almacenar los datos de manera eficiente.\n",
    "\n",
    "---\n",
    "\n",
    "### Fase 6: Inserción de Datos en la Base de Datos\n",
    "Inserta todos los datos recopilados en la base de datos diseñada.\n",
    "\n",
    "---"
   ]
  },
  {
   "cell_type": "code",
   "execution_count": null,
   "metadata": {},
   "outputs": [],
   "source": []
  },
  {
   "cell_type": "markdown",
   "metadata": {},
   "source": [
    "### Fase 7: Consultas SQL\n",
    "Realiza consultas para responder preguntas específicas, como:\n",
    "- ¿Qué géneros han recibido más premios Oscar?\n",
    "- ¿Qué género tiene las mejores calificaciones en IMDB?\n",
    "- ¿Qué director tiene más películas premiadas?\n",
    "- ¿Cuál es la película mejor valorada en IMDB?\n",
    "- ¿Qué actor/actriz ha recibido más premios?"
   ]
  }
 ],
 "metadata": {
  "kernelspec": {
   "display_name": "Python 3",
   "language": "python",
   "name": "python3"
  },
  "language_info": {
   "codemirror_mode": {
    "name": "ipython",
    "version": 3
   },
   "file_extension": ".py",
   "mimetype": "text/x-python",
   "name": "python",
   "nbconvert_exporter": "python",
   "pygments_lexer": "ipython3",
   "version": "3.11.9"
  }
 },
 "nbformat": 4,
 "nbformat_minor": 2
}
