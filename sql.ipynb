{
 "cells": [
  {
   "cell_type": "code",
   "execution_count": 1,
   "metadata": {},
   "outputs": [],
   "source": [
    "import pandas as pd\n",
    "import numpy as np\n",
    "import requests\n",
    "import os\n",
    "import sys\n",
    "\n",
    "pd.set_option('display.max_columns', None) # para poder visualizar todas las columnas de los DataFrames\n",
    "\n",
    "import psycopg2\n",
    "from psycopg2 import sql\n",
    "# Ignorar warings\n",
    "# -----------------------------------------------------------------------\n",
    "import warnings\n",
    "warnings.filterwarnings(\"ignore\")\n",
    "\n",
    "sys.path.append(os.path.abspath(\"src\"))   \n",
    "import src_funciones as f"
   ]
  },
  {
   "cell_type": "code",
   "execution_count": 2,
   "metadata": {},
   "outputs": [],
   "source": [
    "datos_artista=pd.read_csv(\"datos/detalles_artistas.csv\")\n",
    "datos_pelis=pd.read_csv(\"datos/detalles_peliculas.csv\")\n",
    "pelis=pd.read_csv(\"datos/peliculas.csv\")\n",
    "peli_artista=pd.read_csv(\"datos/pelicula_artista.csv\")"
   ]
  },
  {
   "cell_type": "code",
   "execution_count": 3,
   "metadata": {},
   "outputs": [
    {
     "data": {
      "text/html": [
       "<div>\n",
       "<style scoped>\n",
       "    .dataframe tbody tr th:only-of-type {\n",
       "        vertical-align: middle;\n",
       "    }\n",
       "\n",
       "    .dataframe tbody tr th {\n",
       "        vertical-align: top;\n",
       "    }\n",
       "\n",
       "    .dataframe thead th {\n",
       "        text-align: right;\n",
       "    }\n",
       "</style>\n",
       "<table border=\"1\" class=\"dataframe\">\n",
       "  <thead>\n",
       "    <tr style=\"text-align: right;\">\n",
       "      <th></th>\n",
       "      <th>actr</th>\n",
       "      <th>año_nac</th>\n",
       "      <th>conocido_por</th>\n",
       "      <th>que_hace</th>\n",
       "      <th>premios</th>\n",
       "    </tr>\n",
       "  </thead>\n",
       "  <tbody>\n",
       "    <tr>\n",
       "      <th>0</th>\n",
       "      <td>A. Gunaseelan</td>\n",
       "      <td>9999</td>\n",
       "      <td>'Mandela'</td>\n",
       "      <td>Casting Department, Actress, Casting Director</td>\n",
       "      <td>1 nomination</td>\n",
       "    </tr>\n",
       "    <tr>\n",
       "      <th>1</th>\n",
       "      <td>A. Michelle Harleston</td>\n",
       "      <td>9999</td>\n",
       "      <td>'Murder by Numbers', 'The Mark of a Killer', '...</td>\n",
       "      <td>Actor</td>\n",
       "      <td>no tiene premios</td>\n",
       "    </tr>\n",
       "    <tr>\n",
       "      <th>2</th>\n",
       "      <td>A.C. Peterson</td>\n",
       "      <td>9999</td>\n",
       "      <td>'Narc', 'Shanghai Noon', 'Shooter', 'The Last ...</td>\n",
       "      <td>Actor</td>\n",
       "      <td>no tiene premios</td>\n",
       "    </tr>\n",
       "  </tbody>\n",
       "</table>\n",
       "</div>"
      ],
      "text/plain": [
       "                    actr  año_nac  \\\n",
       "0          A. Gunaseelan     9999   \n",
       "1  A. Michelle Harleston     9999   \n",
       "2          A.C. Peterson     9999   \n",
       "\n",
       "                                        conocido_por  \\\n",
       "0                                          'Mandela'   \n",
       "1  'Murder by Numbers', 'The Mark of a Killer', '...   \n",
       "2  'Narc', 'Shanghai Noon', 'Shooter', 'The Last ...   \n",
       "\n",
       "                                        que_hace           premios  \n",
       "0  Casting Department, Actress, Casting Director      1 nomination  \n",
       "1                                          Actor  no tiene premios  \n",
       "2                                          Actor  no tiene premios  "
      ]
     },
     "execution_count": 3,
     "metadata": {},
     "output_type": "execute_result"
    }
   ],
   "source": [
    "datos_artista.head(3)"
   ]
  },
  {
   "cell_type": "code",
   "execution_count": 4,
   "metadata": {},
   "outputs": [
    {
     "data": {
      "text/plain": [
       "np.int64(0)"
      ]
     },
     "execution_count": 4,
     "metadata": {},
     "output_type": "execute_result"
    }
   ],
   "source": [
    "datos_artista.duplicated().sum()"
   ]
  },
  {
   "cell_type": "code",
   "execution_count": 5,
   "metadata": {},
   "outputs": [
    {
     "name": "stdout",
     "output_type": "stream",
     "text": [
      "<class 'pandas.core.frame.DataFrame'>\n",
      "RangeIndex: 9907 entries, 0 to 9906\n",
      "Data columns (total 5 columns):\n",
      " #   Column        Non-Null Count  Dtype \n",
      "---  ------        --------------  ----- \n",
      " 0   actr          9907 non-null   object\n",
      " 1   año_nac       9907 non-null   int64 \n",
      " 2   conocido_por  9907 non-null   object\n",
      " 3   que_hace      9907 non-null   object\n",
      " 4   premios       9907 non-null   object\n",
      "dtypes: int64(1), object(4)\n",
      "memory usage: 387.1+ KB\n"
     ]
    }
   ],
   "source": [
    "datos_artista.info()"
   ]
  },
  {
   "cell_type": "code",
   "execution_count": 6,
   "metadata": {},
   "outputs": [],
   "source": [
    "datos_artista[\"año_nac\"]=datos_artista[\"año_nac\"].astype(str)\n",
    "datos_artista[\"año_nac\"]=datos_artista[\"año_nac\"].str.replace(\"9999\", \"desconocido\")"
   ]
  },
  {
   "cell_type": "code",
   "execution_count": 7,
   "metadata": {},
   "outputs": [
    {
     "data": {
      "text/plain": [
       "array(['desconocido', '1957', '1945', '1975', '1969', '1966', '1991',\n",
       "       '1980', '1952', '1937', '1958', '1990', '1994', '2009', '2000',\n",
       "       '1968', '1979', '1970', '1982', '1934', '1986', '2006', '1976',\n",
       "       '1955', '1933', '1972', '1999', '1989', '1977', '1981', '1993',\n",
       "       '1921', '1984', '1936', '1963', '1997', '1960', '1978', '1938',\n",
       "       '1973', '1971', '1964', '1962', '1995', '1983', '1988', '1914',\n",
       "       '1974', '1985', '1967', '1948', '1946', '1956', '1935', '1943',\n",
       "       '1927', '1920', '1961', '2004', '1928', '1947', '1913', '1987',\n",
       "       '1965', '1950', '1953', '1954', '1931', '1942', '1932', '1992',\n",
       "       '1941', '2001', '1951', '1891', '1996', '1924', '1959', '1940',\n",
       "       '1949', '1944', '1893', '1919', '1915', '1926', '2005', '1929',\n",
       "       '1910', '1879', '1939', '1923', '1907', '1930', '1925', '2007',\n",
       "       '1998', '1922', '1916', '2002', '1908', '1911', '1918', '1917',\n",
       "       '1904', '1897', '2003', '1898', '2011', '1899', '2008', '1876',\n",
       "       '1895', '1912', '2010', '1860'], dtype=object)"
      ]
     },
     "execution_count": 7,
     "metadata": {},
     "output_type": "execute_result"
    }
   ],
   "source": [
    "datos_artista[\"año_nac\"].unique()"
   ]
  },
  {
   "cell_type": "code",
   "execution_count": 8,
   "metadata": {},
   "outputs": [
    {
     "data": {
      "text/plain": [
       "872"
      ]
     },
     "execution_count": 8,
     "metadata": {},
     "output_type": "execute_result"
    }
   ],
   "source": [
    "len(datos_artista[\"premios\"].unique())"
   ]
  },
  {
   "cell_type": "markdown",
   "metadata": {},
   "source": [
    "Son únicos (pero o bien faltan aquí 2 o bien sobran 2 en el df llamado peli_artista)"
   ]
  },
  {
   "cell_type": "code",
   "execution_count": 9,
   "metadata": {},
   "outputs": [
    {
     "data": {
      "text/plain": [
       "9907"
      ]
     },
     "execution_count": 9,
     "metadata": {},
     "output_type": "execute_result"
    }
   ],
   "source": [
    "len(datos_artista[\"actr\"].unique())"
   ]
  },
  {
   "cell_type": "code",
   "execution_count": 10,
   "metadata": {},
   "outputs": [
    {
     "data": {
      "text/html": [
       "<div>\n",
       "<style scoped>\n",
       "    .dataframe tbody tr th:only-of-type {\n",
       "        vertical-align: middle;\n",
       "    }\n",
       "\n",
       "    .dataframe tbody tr th {\n",
       "        vertical-align: top;\n",
       "    }\n",
       "\n",
       "    .dataframe thead th {\n",
       "        text-align: right;\n",
       "    }\n",
       "</style>\n",
       "<table border=\"1\" class=\"dataframe\">\n",
       "  <thead>\n",
       "    <tr style=\"text-align: right;\">\n",
       "      <th></th>\n",
       "      <th>actr</th>\n",
       "      <th>año_nac</th>\n",
       "      <th>conocido_por</th>\n",
       "      <th>que_hace</th>\n",
       "      <th>premios</th>\n",
       "    </tr>\n",
       "  </thead>\n",
       "  <tbody>\n",
       "    <tr>\n",
       "      <th>0</th>\n",
       "      <td>A. Gunaseelan</td>\n",
       "      <td>desconocido</td>\n",
       "      <td>'Mandela'</td>\n",
       "      <td>Casting Department, Actress, Casting Director</td>\n",
       "      <td>1 nomination</td>\n",
       "    </tr>\n",
       "    <tr>\n",
       "      <th>1</th>\n",
       "      <td>A. Michelle Harleston</td>\n",
       "      <td>desconocido</td>\n",
       "      <td>'Murder by Numbers', 'The Mark of a Killer', '...</td>\n",
       "      <td>Actor</td>\n",
       "      <td>no tiene premios</td>\n",
       "    </tr>\n",
       "    <tr>\n",
       "      <th>2</th>\n",
       "      <td>A.C. Peterson</td>\n",
       "      <td>desconocido</td>\n",
       "      <td>'Narc', 'Shanghai Noon', 'Shooter', 'The Last ...</td>\n",
       "      <td>Actor</td>\n",
       "      <td>no tiene premios</td>\n",
       "    </tr>\n",
       "    <tr>\n",
       "      <th>3</th>\n",
       "      <td>A.V.S. Subramanyam</td>\n",
       "      <td>1957</td>\n",
       "      <td>'Roommates', 'Uncle', 'Ori Nee Prema Bangaramk...</td>\n",
       "      <td>Actor, Director, Writer</td>\n",
       "      <td>no tiene premios</td>\n",
       "    </tr>\n",
       "    <tr>\n",
       "      <th>4</th>\n",
       "      <td>Øyvind Øvrebø</td>\n",
       "      <td>desconocido</td>\n",
       "      <td>'Tingen, Edderkoppen', 'Demenskoret', 'Kristia...</td>\n",
       "      <td>Actress, Additional Crew</td>\n",
       "      <td>no tiene premios</td>\n",
       "    </tr>\n",
       "  </tbody>\n",
       "</table>\n",
       "</div>"
      ],
      "text/plain": [
       "                    actr      año_nac  \\\n",
       "0          A. Gunaseelan  desconocido   \n",
       "1  A. Michelle Harleston  desconocido   \n",
       "2          A.C. Peterson  desconocido   \n",
       "3     A.V.S. Subramanyam         1957   \n",
       "4          Øyvind Øvrebø  desconocido   \n",
       "\n",
       "                                        conocido_por  \\\n",
       "0                                          'Mandela'   \n",
       "1  'Murder by Numbers', 'The Mark of a Killer', '...   \n",
       "2  'Narc', 'Shanghai Noon', 'Shooter', 'The Last ...   \n",
       "3  'Roommates', 'Uncle', 'Ori Nee Prema Bangaramk...   \n",
       "4  'Tingen, Edderkoppen', 'Demenskoret', 'Kristia...   \n",
       "\n",
       "                                        que_hace           premios  \n",
       "0  Casting Department, Actress, Casting Director      1 nomination  \n",
       "1                                          Actor  no tiene premios  \n",
       "2                                          Actor  no tiene premios  \n",
       "3                        Actor, Director, Writer  no tiene premios  \n",
       "4                       Actress, Additional Crew  no tiene premios  "
      ]
     },
     "execution_count": 10,
     "metadata": {},
     "output_type": "execute_result"
    }
   ],
   "source": [
    "datos_artista.head()"
   ]
  },
  {
   "cell_type": "code",
   "execution_count": 11,
   "metadata": {},
   "outputs": [
    {
     "data": {
      "text/html": [
       "<div>\n",
       "<style scoped>\n",
       "    .dataframe tbody tr th:only-of-type {\n",
       "        vertical-align: middle;\n",
       "    }\n",
       "\n",
       "    .dataframe tbody tr th {\n",
       "        vertical-align: top;\n",
       "    }\n",
       "\n",
       "    .dataframe thead th {\n",
       "        text-align: right;\n",
       "    }\n",
       "</style>\n",
       "<table border=\"1\" class=\"dataframe\">\n",
       "  <thead>\n",
       "    <tr style=\"text-align: right;\">\n",
       "      <th></th>\n",
       "      <th>titulo</th>\n",
       "      <th>cali_imdb</th>\n",
       "      <th>direc_imbd</th>\n",
       "      <th>guion_imbd</th>\n",
       "      <th>argum_imbd</th>\n",
       "      <th>durac_imbd</th>\n",
       "      <th>id_pelicula</th>\n",
       "    </tr>\n",
       "  </thead>\n",
       "  <tbody>\n",
       "    <tr>\n",
       "      <th>0</th>\n",
       "      <td>Las Travesuras de Super Chido</td>\n",
       "      <td>7.7</td>\n",
       "      <td>Alejandro Todd</td>\n",
       "      <td>Óscar FentanesJuan Garrido</td>\n",
       "      <td>Desconocido</td>\n",
       "      <td>1h 35min</td>\n",
       "      <td>tt0320656</td>\n",
       "    </tr>\n",
       "    <tr>\n",
       "      <th>1</th>\n",
       "      <td>Velai Kidaichiruchu</td>\n",
       "      <td>5.2</td>\n",
       "      <td>P. Vasu</td>\n",
       "      <td>SathyarajGautamiAnandraj</td>\n",
       "      <td>Baasha, a gangster, controls a whole village w...</td>\n",
       "      <td>Desconocido</td>\n",
       "      <td>tt0318803</td>\n",
       "    </tr>\n",
       "    <tr>\n",
       "      <th>2</th>\n",
       "      <td>Sor Batalla</td>\n",
       "      <td>6.6</td>\n",
       "      <td>Jesús Fragoso Montoya</td>\n",
       "      <td>Fernando Galiana</td>\n",
       "      <td>As punishment for participating in a contest T...</td>\n",
       "      <td>1h 34min</td>\n",
       "      <td>tt0320503</td>\n",
       "    </tr>\n",
       "  </tbody>\n",
       "</table>\n",
       "</div>"
      ],
      "text/plain": [
       "                          titulo  cali_imdb             direc_imbd  \\\n",
       "0  Las Travesuras de Super Chido        7.7         Alejandro Todd   \n",
       "1            Velai Kidaichiruchu        5.2                P. Vasu   \n",
       "2                    Sor Batalla        6.6  Jesús Fragoso Montoya   \n",
       "\n",
       "                   guion_imbd  \\\n",
       "0  Óscar FentanesJuan Garrido   \n",
       "1    SathyarajGautamiAnandraj   \n",
       "2            Fernando Galiana   \n",
       "\n",
       "                                          argum_imbd   durac_imbd id_pelicula  \n",
       "0                                        Desconocido     1h 35min   tt0320656  \n",
       "1  Baasha, a gangster, controls a whole village w...  Desconocido   tt0318803  \n",
       "2  As punishment for participating in a contest T...     1h 34min   tt0320503  "
      ]
     },
     "execution_count": 11,
     "metadata": {},
     "output_type": "execute_result"
    }
   ],
   "source": [
    "datos_pelis.head(3)"
   ]
  },
  {
   "cell_type": "code",
   "execution_count": null,
   "metadata": {},
   "outputs": [
    {
     "name": "stdout",
     "output_type": "stream",
     "text": [
      "<class 'pandas.core.frame.DataFrame'>\n",
      "RangeIndex: 1453 entries, 0 to 1452\n",
      "Data columns (total 7 columns):\n",
      " #   Column       Non-Null Count  Dtype  \n",
      "---  ------       --------------  -----  \n",
      " 0   titulo       1453 non-null   object \n",
      " 1   cali_imdb    961 non-null    float64\n",
      " 2   direc_imbd   1453 non-null   object \n",
      " 3   guion_imbd   1453 non-null   object \n",
      " 4   argum_imbd   1453 non-null   object \n",
      " 5   durac_imbd   1453 non-null   object \n",
      " 6   id_pelicula  1453 non-null   object \n",
      "dtypes: float64(1), object(6)\n",
      "memory usage: 79.6+ KB\n"
     ]
    }
   ],
   "source": [
    "datos_pelis.info()"
   ]
  },
  {
   "cell_type": "markdown",
   "metadata": {},
   "source": [
    "Estos nulos habría que imputarlos (aunque al observarlos me he dado cuenta que gran parte de esas filas no aportan información)"
   ]
  },
  {
   "cell_type": "code",
   "execution_count": 13,
   "metadata": {},
   "outputs": [
    {
     "data": {
      "text/plain": [
       "0       7.7\n",
       "1       5.2\n",
       "2       6.6\n",
       "3       5.3\n",
       "4       NaN\n",
       "       ... \n",
       "1448    6.2\n",
       "1449    NaN\n",
       "1450    NaN\n",
       "1451    NaN\n",
       "1452    NaN\n",
       "Name: cali_imdb, Length: 1453, dtype: float64"
      ]
     },
     "execution_count": 13,
     "metadata": {},
     "output_type": "execute_result"
    }
   ],
   "source": [
    "datos_pelis[\"cali_imdb\"]"
   ]
  },
  {
   "cell_type": "markdown",
   "metadata": {},
   "source": [
    "53 filas son todo nan\n"
   ]
  },
  {
   "cell_type": "code",
   "execution_count": 14,
   "metadata": {},
   "outputs": [
    {
     "data": {
      "text/plain": [
       "53"
      ]
     },
     "execution_count": 14,
     "metadata": {},
     "output_type": "execute_result"
    }
   ],
   "source": [
    "len(datos_pelis[(datos_pelis[\"cali_imdb\"].isna()) & (datos_pelis[\"direc_imbd\"] == \"Desconocido\") & (datos_pelis[\"guion_imbd\"] == \"Desconocido\") & (datos_pelis[\"argum_imbd\"] == \"Desconocido\") & (datos_pelis[\"durac_imbd\"] == \"Desconocido\")])"
   ]
  },
  {
   "cell_type": "markdown",
   "metadata": {},
   "source": [
    "189 son todo nan salvo duración"
   ]
  },
  {
   "cell_type": "code",
   "execution_count": 15,
   "metadata": {},
   "outputs": [
    {
     "data": {
      "text/plain": [
       "189"
      ]
     },
     "execution_count": 15,
     "metadata": {},
     "output_type": "execute_result"
    }
   ],
   "source": [
    "len(datos_pelis[(datos_pelis[\"cali_imdb\"].isna()) & (datos_pelis[\"direc_imbd\"] == \"Desconocido\") & (datos_pelis[\"guion_imbd\"] == \"Desconocido\") & (datos_pelis[\"argum_imbd\"] == \"Desconocido\")])"
   ]
  },
  {
   "cell_type": "markdown",
   "metadata": {},
   "source": [
    "192 son todo nan salvo duración y argumento/guion"
   ]
  },
  {
   "cell_type": "code",
   "execution_count": 16,
   "metadata": {},
   "outputs": [
    {
     "data": {
      "text/plain": [
       "192"
      ]
     },
     "execution_count": 16,
     "metadata": {},
     "output_type": "execute_result"
    }
   ],
   "source": [
    "len(datos_pelis[(datos_pelis[\"cali_imdb\"].isna()) & (datos_pelis[\"direc_imbd\"] == \"Desconocido\") & (datos_pelis[\"argum_imbd\"] == \"Desconocido\")])"
   ]
  },
  {
   "cell_type": "code",
   "execution_count": 17,
   "metadata": {},
   "outputs": [
    {
     "data": {
      "text/plain": [
       "192"
      ]
     },
     "execution_count": 17,
     "metadata": {},
     "output_type": "execute_result"
    }
   ],
   "source": [
    "len(datos_pelis[(datos_pelis[\"cali_imdb\"].isna()) & (datos_pelis[\"direc_imbd\"] == \"Desconocido\") & (datos_pelis[\"guion_imbd\"] == \"Desconocido\") ])"
   ]
  },
  {
   "cell_type": "markdown",
   "metadata": {},
   "source": [
    "tengo 854 filas con toda la info completa"
   ]
  },
  {
   "cell_type": "code",
   "execution_count": 18,
   "metadata": {},
   "outputs": [
    {
     "data": {
      "text/plain": [
       "(854, 7)"
      ]
     },
     "execution_count": 18,
     "metadata": {},
     "output_type": "execute_result"
    }
   ],
   "source": [
    "datos_pelis[(datos_pelis[\"cali_imdb\"]!=np.nan) & (datos_pelis[\"direc_imbd\"] != \"Desconocido\") & (datos_pelis[\"guion_imbd\"] != \"Desconocido\")].shape"
   ]
  },
  {
   "cell_type": "code",
   "execution_count": 19,
   "metadata": {},
   "outputs": [
    {
     "data": {
      "text/plain": [
       "231"
      ]
     },
     "execution_count": 19,
     "metadata": {},
     "output_type": "execute_result"
    }
   ],
   "source": [
    "len(datos_pelis[\"durac_imbd\"].unique())"
   ]
  },
  {
   "cell_type": "code",
   "execution_count": 20,
   "metadata": {},
   "outputs": [
    {
     "data": {
      "text/plain": [
       "array([7.7, 5.2, 6.6, 5.3, nan, 5.9, 5. , 6.3, 6.7, 4.2, 5.1, 4.4, 3.7,\n",
       "       6.4, 4.9, 5.8, 6. , 6.8, 4.1, 4. , 5.4, 8.4, 6.2, 7.4, 5.6, 3.2,\n",
       "       2.8, 7.1, 8.3, 2.9, 7.8, 7.2, 7.3, 7.5, 6.1, 5.7, 4.7, 4.3, 2.4,\n",
       "       4.5, 7.9, 6.5, 8.7, 7. , 4.6, 5.5, 6.9, 9. , 7.6, 8.1, 4.8, 3.3,\n",
       "       3. , 8. , 2.6, 8.2, 3.8, 3.5, 3.6, 3.4, 3.9, 2.3, 2.7, 8.5, 1.9,\n",
       "       2.5, 9.8, 8.9, 9.1, 8.6, 1.3, 9.5, 9.3, 3.1, 2. , 8.8, 9.6, 1.7,\n",
       "       2.1, 9.2, 9.4, 2.2])"
      ]
     },
     "execution_count": 20,
     "metadata": {},
     "output_type": "execute_result"
    }
   ],
   "source": [
    "datos_pelis[\"cali_imdb\"].unique()"
   ]
  },
  {
   "cell_type": "code",
   "execution_count": 21,
   "metadata": {},
   "outputs": [
    {
     "data": {
      "text/html": [
       "<div>\n",
       "<style scoped>\n",
       "    .dataframe tbody tr th:only-of-type {\n",
       "        vertical-align: middle;\n",
       "    }\n",
       "\n",
       "    .dataframe tbody tr th {\n",
       "        vertical-align: top;\n",
       "    }\n",
       "\n",
       "    .dataframe thead th {\n",
       "        text-align: right;\n",
       "    }\n",
       "</style>\n",
       "<table border=\"1\" class=\"dataframe\">\n",
       "  <thead>\n",
       "    <tr style=\"text-align: right;\">\n",
       "      <th></th>\n",
       "      <th>titulo</th>\n",
       "      <th>cali_imdb</th>\n",
       "      <th>direc_imbd</th>\n",
       "      <th>guion_imbd</th>\n",
       "      <th>argum_imbd</th>\n",
       "      <th>durac_imbd</th>\n",
       "      <th>id_pelicula</th>\n",
       "    </tr>\n",
       "  </thead>\n",
       "  <tbody>\n",
       "    <tr>\n",
       "      <th>4</th>\n",
       "      <td>Suo ming fei dao</td>\n",
       "      <td>NaN</td>\n",
       "      <td>Desconocido</td>\n",
       "      <td>Desconocido</td>\n",
       "      <td>Desconocido</td>\n",
       "      <td>1h 24min</td>\n",
       "      <td>tt0348147</td>\n",
       "    </tr>\n",
       "    <tr>\n",
       "      <th>5</th>\n",
       "      <td>Contreras Gang</td>\n",
       "      <td>NaN</td>\n",
       "      <td>Desconocido</td>\n",
       "      <td>Desconocido</td>\n",
       "      <td>Desconocido</td>\n",
       "      <td>1h 51min</td>\n",
       "      <td>tt0349237</td>\n",
       "    </tr>\n",
       "    <tr>\n",
       "      <th>7</th>\n",
       "      <td>Jiang hu ba mian feng</td>\n",
       "      <td>NaN</td>\n",
       "      <td>Mei Hu</td>\n",
       "      <td>Feng Ni</td>\n",
       "      <td>The heir to the throne flees to South China an...</td>\n",
       "      <td>1h 27min</td>\n",
       "      <td>tt0351141</td>\n",
       "    </tr>\n",
       "    <tr>\n",
       "      <th>9</th>\n",
       "      <td>Alyas Lakay</td>\n",
       "      <td>NaN</td>\n",
       "      <td>Nilo Saez</td>\n",
       "      <td>Jose N. Carreon</td>\n",
       "      <td>Desconocido</td>\n",
       "      <td>1h 45min</td>\n",
       "      <td>tt0344816</td>\n",
       "    </tr>\n",
       "    <tr>\n",
       "      <th>13</th>\n",
       "      <td>Que me entierren con la banda</td>\n",
       "      <td>NaN</td>\n",
       "      <td>Alfredo B. Crevenna</td>\n",
       "      <td>Manolo Cárdenas</td>\n",
       "      <td>Desconocido</td>\n",
       "      <td>1h 33min</td>\n",
       "      <td>tt0285962</td>\n",
       "    </tr>\n",
       "    <tr>\n",
       "      <th>...</th>\n",
       "      <td>...</td>\n",
       "      <td>...</td>\n",
       "      <td>...</td>\n",
       "      <td>...</td>\n",
       "      <td>...</td>\n",
       "      <td>...</td>\n",
       "      <td>...</td>\n",
       "    </tr>\n",
       "    <tr>\n",
       "      <th>1447</th>\n",
       "      <td>Sight</td>\n",
       "      <td>NaN</td>\n",
       "      <td>Hariom Mehta</td>\n",
       "      <td>Hariom Mehta</td>\n",
       "      <td>A criminal starts killing people in the city, ...</td>\n",
       "      <td>11min</td>\n",
       "      <td>tt27236215</td>\n",
       "    </tr>\n",
       "    <tr>\n",
       "      <th>1449</th>\n",
       "      <td>Marne Ke Dar Se Mere Dil</td>\n",
       "      <td>NaN</td>\n",
       "      <td>Priyasha Bhardwaj</td>\n",
       "      <td>Desconocido</td>\n",
       "      <td>One fateful night , Samadhan reluctantly goes ...</td>\n",
       "      <td>Desconocido</td>\n",
       "      <td>tt27250288</td>\n",
       "    </tr>\n",
       "    <tr>\n",
       "      <th>1450</th>\n",
       "      <td>Red Wine</td>\n",
       "      <td>NaN</td>\n",
       "      <td>Desconocido</td>\n",
       "      <td>Desconocido</td>\n",
       "      <td>Desconocido</td>\n",
       "      <td>Desconocido</td>\n",
       "      <td>tt27250168</td>\n",
       "    </tr>\n",
       "    <tr>\n",
       "      <th>1451</th>\n",
       "      <td>Magna Lacerta</td>\n",
       "      <td>NaN</td>\n",
       "      <td>Ruby Fuller</td>\n",
       "      <td>Ruby FullerKevin Lucero LessJacob Schindler</td>\n",
       "      <td>Two students produce a documentary about the d...</td>\n",
       "      <td>Desconocido</td>\n",
       "      <td>tt27262238</td>\n",
       "    </tr>\n",
       "    <tr>\n",
       "      <th>1452</th>\n",
       "      <td>Sight</td>\n",
       "      <td>NaN</td>\n",
       "      <td>Desconocido</td>\n",
       "      <td>Desconocido</td>\n",
       "      <td>Desconocido</td>\n",
       "      <td>Desconocido</td>\n",
       "      <td>tt27215062</td>\n",
       "    </tr>\n",
       "  </tbody>\n",
       "</table>\n",
       "<p>492 rows × 7 columns</p>\n",
       "</div>"
      ],
      "text/plain": [
       "                             titulo  cali_imdb           direc_imbd  \\\n",
       "4                  Suo ming fei dao        NaN          Desconocido   \n",
       "5                    Contreras Gang        NaN          Desconocido   \n",
       "7             Jiang hu ba mian feng        NaN               Mei Hu   \n",
       "9                       Alyas Lakay        NaN            Nilo Saez   \n",
       "13    Que me entierren con la banda        NaN  Alfredo B. Crevenna   \n",
       "...                             ...        ...                  ...   \n",
       "1447                          Sight        NaN         Hariom Mehta   \n",
       "1449       Marne Ke Dar Se Mere Dil        NaN    Priyasha Bhardwaj   \n",
       "1450                       Red Wine        NaN          Desconocido   \n",
       "1451                  Magna Lacerta        NaN          Ruby Fuller   \n",
       "1452                          Sight        NaN          Desconocido   \n",
       "\n",
       "                                       guion_imbd  \\\n",
       "4                                     Desconocido   \n",
       "5                                     Desconocido   \n",
       "7                                         Feng Ni   \n",
       "9                                 Jose N. Carreon   \n",
       "13                                Manolo Cárdenas   \n",
       "...                                           ...   \n",
       "1447                                 Hariom Mehta   \n",
       "1449                                  Desconocido   \n",
       "1450                                  Desconocido   \n",
       "1451  Ruby FullerKevin Lucero LessJacob Schindler   \n",
       "1452                                  Desconocido   \n",
       "\n",
       "                                             argum_imbd   durac_imbd  \\\n",
       "4                                           Desconocido     1h 24min   \n",
       "5                                           Desconocido     1h 51min   \n",
       "7     The heir to the throne flees to South China an...     1h 27min   \n",
       "9                                           Desconocido     1h 45min   \n",
       "13                                          Desconocido     1h 33min   \n",
       "...                                                 ...          ...   \n",
       "1447  A criminal starts killing people in the city, ...        11min   \n",
       "1449  One fateful night , Samadhan reluctantly goes ...  Desconocido   \n",
       "1450                                        Desconocido  Desconocido   \n",
       "1451  Two students produce a documentary about the d...  Desconocido   \n",
       "1452                                        Desconocido  Desconocido   \n",
       "\n",
       "     id_pelicula  \n",
       "4      tt0348147  \n",
       "5      tt0349237  \n",
       "7      tt0351141  \n",
       "9      tt0344816  \n",
       "13     tt0285962  \n",
       "...          ...  \n",
       "1447  tt27236215  \n",
       "1449  tt27250288  \n",
       "1450  tt27250168  \n",
       "1451  tt27262238  \n",
       "1452  tt27215062  \n",
       "\n",
       "[492 rows x 7 columns]"
      ]
     },
     "execution_count": 21,
     "metadata": {},
     "output_type": "execute_result"
    }
   ],
   "source": [
    "datos_pelis[datos_pelis[\"cali_imdb\"].isna()]"
   ]
  },
  {
   "cell_type": "code",
   "execution_count": 22,
   "metadata": {},
   "outputs": [
    {
     "data": {
      "text/plain": [
       "np.int64(0)"
      ]
     },
     "execution_count": 22,
     "metadata": {},
     "output_type": "execute_result"
    }
   ],
   "source": [
    "datos_pelis.duplicated().sum()"
   ]
  },
  {
   "cell_type": "markdown",
   "metadata": {},
   "source": [
    "Si que es única"
   ]
  },
  {
   "cell_type": "code",
   "execution_count": 23,
   "metadata": {},
   "outputs": [
    {
     "data": {
      "text/plain": [
       "1453"
      ]
     },
     "execution_count": 23,
     "metadata": {},
     "output_type": "execute_result"
    }
   ],
   "source": [
    "len(datos_pelis[\"id_pelicula\"].unique())"
   ]
  },
  {
   "cell_type": "code",
   "execution_count": 24,
   "metadata": {},
   "outputs": [
    {
     "data": {
      "text/plain": [
       "1444"
      ]
     },
     "execution_count": 24,
     "metadata": {},
     "output_type": "execute_result"
    }
   ],
   "source": [
    "len(datos_pelis[\"titulo\"].unique())"
   ]
  },
  {
   "cell_type": "code",
   "execution_count": 25,
   "metadata": {},
   "outputs": [
    {
     "data": {
      "text/html": [
       "<div>\n",
       "<style scoped>\n",
       "    .dataframe tbody tr th:only-of-type {\n",
       "        vertical-align: middle;\n",
       "    }\n",
       "\n",
       "    .dataframe tbody tr th {\n",
       "        vertical-align: top;\n",
       "    }\n",
       "\n",
       "    .dataframe thead th {\n",
       "        text-align: right;\n",
       "    }\n",
       "</style>\n",
       "<table border=\"1\" class=\"dataframe\">\n",
       "  <thead>\n",
       "    <tr style=\"text-align: right;\">\n",
       "      <th></th>\n",
       "      <th>titulo</th>\n",
       "      <th>cali_imdb</th>\n",
       "      <th>direc_imbd</th>\n",
       "      <th>guion_imbd</th>\n",
       "      <th>argum_imbd</th>\n",
       "      <th>durac_imbd</th>\n",
       "      <th>id_pelicula</th>\n",
       "    </tr>\n",
       "  </thead>\n",
       "  <tbody>\n",
       "    <tr>\n",
       "      <th>0</th>\n",
       "      <td>Las Travesuras de Super Chido</td>\n",
       "      <td>7.7</td>\n",
       "      <td>Alejandro Todd</td>\n",
       "      <td>Óscar FentanesJuan Garrido</td>\n",
       "      <td>Desconocido</td>\n",
       "      <td>1h 35min</td>\n",
       "      <td>tt0320656</td>\n",
       "    </tr>\n",
       "    <tr>\n",
       "      <th>1</th>\n",
       "      <td>Velai Kidaichiruchu</td>\n",
       "      <td>5.2</td>\n",
       "      <td>P. Vasu</td>\n",
       "      <td>SathyarajGautamiAnandraj</td>\n",
       "      <td>Baasha, a gangster, controls a whole village w...</td>\n",
       "      <td>Desconocido</td>\n",
       "      <td>tt0318803</td>\n",
       "    </tr>\n",
       "    <tr>\n",
       "      <th>2</th>\n",
       "      <td>Sor Batalla</td>\n",
       "      <td>6.6</td>\n",
       "      <td>Jesús Fragoso Montoya</td>\n",
       "      <td>Fernando Galiana</td>\n",
       "      <td>As punishment for participating in a contest T...</td>\n",
       "      <td>1h 34min</td>\n",
       "      <td>tt0320503</td>\n",
       "    </tr>\n",
       "    <tr>\n",
       "      <th>3</th>\n",
       "      <td>Azaad Desh Ke Gulam</td>\n",
       "      <td>5.3</td>\n",
       "      <td>S.A. Chandrashekhar</td>\n",
       "      <td>RekhaRishi KapoorJackie Shroff</td>\n",
       "      <td>Bharti, a law student from a rich family, live...</td>\n",
       "      <td>2h 33min</td>\n",
       "      <td>tt0330019</td>\n",
       "    </tr>\n",
       "    <tr>\n",
       "      <th>4</th>\n",
       "      <td>Suo ming fei dao</td>\n",
       "      <td>NaN</td>\n",
       "      <td>Desconocido</td>\n",
       "      <td>Desconocido</td>\n",
       "      <td>Desconocido</td>\n",
       "      <td>1h 24min</td>\n",
       "      <td>tt0348147</td>\n",
       "    </tr>\n",
       "  </tbody>\n",
       "</table>\n",
       "</div>"
      ],
      "text/plain": [
       "                          titulo  cali_imdb             direc_imbd  \\\n",
       "0  Las Travesuras de Super Chido        7.7         Alejandro Todd   \n",
       "1            Velai Kidaichiruchu        5.2                P. Vasu   \n",
       "2                    Sor Batalla        6.6  Jesús Fragoso Montoya   \n",
       "3            Azaad Desh Ke Gulam        5.3    S.A. Chandrashekhar   \n",
       "4               Suo ming fei dao        NaN            Desconocido   \n",
       "\n",
       "                       guion_imbd  \\\n",
       "0      Óscar FentanesJuan Garrido   \n",
       "1        SathyarajGautamiAnandraj   \n",
       "2                Fernando Galiana   \n",
       "3  RekhaRishi KapoorJackie Shroff   \n",
       "4                     Desconocido   \n",
       "\n",
       "                                          argum_imbd   durac_imbd id_pelicula  \n",
       "0                                        Desconocido     1h 35min   tt0320656  \n",
       "1  Baasha, a gangster, controls a whole village w...  Desconocido   tt0318803  \n",
       "2  As punishment for participating in a contest T...     1h 34min   tt0320503  \n",
       "3  Bharti, a law student from a rich family, live...     2h 33min   tt0330019  \n",
       "4                                        Desconocido     1h 24min   tt0348147  "
      ]
     },
     "execution_count": 25,
     "metadata": {},
     "output_type": "execute_result"
    }
   ],
   "source": [
    "datos_pelis.head()"
   ]
  },
  {
   "cell_type": "code",
   "execution_count": 26,
   "metadata": {},
   "outputs": [
    {
     "data": {
      "text/html": [
       "<div>\n",
       "<style scoped>\n",
       "    .dataframe tbody tr th:only-of-type {\n",
       "        vertical-align: middle;\n",
       "    }\n",
       "\n",
       "    .dataframe tbody tr th {\n",
       "        vertical-align: top;\n",
       "    }\n",
       "\n",
       "    .dataframe thead th {\n",
       "        text-align: right;\n",
       "    }\n",
       "</style>\n",
       "<table border=\"1\" class=\"dataframe\">\n",
       "  <thead>\n",
       "    <tr style=\"text-align: right;\">\n",
       "      <th></th>\n",
       "      <th>Tipo</th>\n",
       "      <th>Titulo</th>\n",
       "      <th>Año</th>\n",
       "      <th>Mes</th>\n",
       "      <th>Id</th>\n",
       "      <th>generos</th>\n",
       "    </tr>\n",
       "  </thead>\n",
       "  <tbody>\n",
       "    <tr>\n",
       "      <th>0</th>\n",
       "      <td>Movie</td>\n",
       "      <td>Las Travesuras de Super Chido</td>\n",
       "      <td>1990</td>\n",
       "      <td>10</td>\n",
       "      <td>tt0320656</td>\n",
       "      <td>Action</td>\n",
       "    </tr>\n",
       "    <tr>\n",
       "      <th>1</th>\n",
       "      <td>Movie</td>\n",
       "      <td>Velai Kidaichiruchu</td>\n",
       "      <td>1990</td>\n",
       "      <td>8</td>\n",
       "      <td>tt0318803</td>\n",
       "      <td>Action</td>\n",
       "    </tr>\n",
       "    <tr>\n",
       "      <th>2</th>\n",
       "      <td>Movie</td>\n",
       "      <td>Sor Batalla</td>\n",
       "      <td>1990</td>\n",
       "      <td>8</td>\n",
       "      <td>tt0320503</td>\n",
       "      <td>Action</td>\n",
       "    </tr>\n",
       "  </tbody>\n",
       "</table>\n",
       "</div>"
      ],
      "text/plain": [
       "    Tipo                         Titulo   Año  Mes         Id generos\n",
       "0  Movie  Las Travesuras de Super Chido  1990   10  tt0320656  Action\n",
       "1  Movie            Velai Kidaichiruchu  1990    8  tt0318803  Action\n",
       "2  Movie                    Sor Batalla  1990    8  tt0320503  Action"
      ]
     },
     "execution_count": 26,
     "metadata": {},
     "output_type": "execute_result"
    }
   ],
   "source": [
    "pelis.head(3)"
   ]
  },
  {
   "cell_type": "code",
   "execution_count": 27,
   "metadata": {},
   "outputs": [
    {
     "name": "stdout",
     "output_type": "stream",
     "text": [
      "<class 'pandas.core.frame.DataFrame'>\n",
      "RangeIndex: 1453 entries, 0 to 1452\n",
      "Data columns (total 6 columns):\n",
      " #   Column   Non-Null Count  Dtype \n",
      "---  ------   --------------  ----- \n",
      " 0   Tipo     1453 non-null   object\n",
      " 1   Titulo   1453 non-null   object\n",
      " 2   Año      1453 non-null   int64 \n",
      " 3   Mes      1453 non-null   int64 \n",
      " 4   Id       1453 non-null   object\n",
      " 5   generos  1453 non-null   object\n",
      "dtypes: int64(2), object(4)\n",
      "memory usage: 68.2+ KB\n"
     ]
    }
   ],
   "source": [
    "pelis.info()"
   ]
  },
  {
   "cell_type": "code",
   "execution_count": 28,
   "metadata": {},
   "outputs": [
    {
     "data": {
      "text/plain": [
       "np.int64(0)"
      ]
     },
     "execution_count": 28,
     "metadata": {},
     "output_type": "execute_result"
    }
   ],
   "source": [
    "pelis.duplicated().sum()"
   ]
  },
  {
   "cell_type": "markdown",
   "metadata": {},
   "source": [
    "También es única"
   ]
  },
  {
   "cell_type": "code",
   "execution_count": 29,
   "metadata": {},
   "outputs": [
    {
     "data": {
      "text/plain": [
       "1453"
      ]
     },
     "execution_count": 29,
     "metadata": {},
     "output_type": "execute_result"
    }
   ],
   "source": [
    "len(pelis[\"Id\"].unique())"
   ]
  },
  {
   "cell_type": "code",
   "execution_count": 30,
   "metadata": {},
   "outputs": [
    {
     "data": {
      "text/plain": [
       "1444"
      ]
     },
     "execution_count": 30,
     "metadata": {},
     "output_type": "execute_result"
    }
   ],
   "source": [
    "len(pelis[\"Titulo\"].unique())"
   ]
  },
  {
   "cell_type": "code",
   "execution_count": 31,
   "metadata": {},
   "outputs": [
    {
     "data": {
      "text/html": [
       "<div>\n",
       "<style scoped>\n",
       "    .dataframe tbody tr th:only-of-type {\n",
       "        vertical-align: middle;\n",
       "    }\n",
       "\n",
       "    .dataframe tbody tr th {\n",
       "        vertical-align: top;\n",
       "    }\n",
       "\n",
       "    .dataframe thead th {\n",
       "        text-align: right;\n",
       "    }\n",
       "</style>\n",
       "<table border=\"1\" class=\"dataframe\">\n",
       "  <thead>\n",
       "    <tr style=\"text-align: right;\">\n",
       "      <th></th>\n",
       "      <th>Tipo</th>\n",
       "      <th>Titulo</th>\n",
       "      <th>Año</th>\n",
       "      <th>Mes</th>\n",
       "      <th>Id</th>\n",
       "      <th>generos</th>\n",
       "    </tr>\n",
       "  </thead>\n",
       "  <tbody>\n",
       "    <tr>\n",
       "      <th>0</th>\n",
       "      <td>Movie</td>\n",
       "      <td>Las Travesuras de Super Chido</td>\n",
       "      <td>1990</td>\n",
       "      <td>10</td>\n",
       "      <td>tt0320656</td>\n",
       "      <td>Action</td>\n",
       "    </tr>\n",
       "    <tr>\n",
       "      <th>1</th>\n",
       "      <td>Movie</td>\n",
       "      <td>Velai Kidaichiruchu</td>\n",
       "      <td>1990</td>\n",
       "      <td>8</td>\n",
       "      <td>tt0318803</td>\n",
       "      <td>Action</td>\n",
       "    </tr>\n",
       "    <tr>\n",
       "      <th>2</th>\n",
       "      <td>Movie</td>\n",
       "      <td>Sor Batalla</td>\n",
       "      <td>1990</td>\n",
       "      <td>8</td>\n",
       "      <td>tt0320503</td>\n",
       "      <td>Action</td>\n",
       "    </tr>\n",
       "    <tr>\n",
       "      <th>3</th>\n",
       "      <td>Movie</td>\n",
       "      <td>Azaad Desh Ke Gulam</td>\n",
       "      <td>1990</td>\n",
       "      <td>4</td>\n",
       "      <td>tt0330019</td>\n",
       "      <td>Action</td>\n",
       "    </tr>\n",
       "    <tr>\n",
       "      <th>4</th>\n",
       "      <td>Movie</td>\n",
       "      <td>Suo ming fei dao</td>\n",
       "      <td>1991</td>\n",
       "      <td>11</td>\n",
       "      <td>tt0348147</td>\n",
       "      <td>Action</td>\n",
       "    </tr>\n",
       "  </tbody>\n",
       "</table>\n",
       "</div>"
      ],
      "text/plain": [
       "    Tipo                         Titulo   Año  Mes         Id generos\n",
       "0  Movie  Las Travesuras de Super Chido  1990   10  tt0320656  Action\n",
       "1  Movie            Velai Kidaichiruchu  1990    8  tt0318803  Action\n",
       "2  Movie                    Sor Batalla  1990    8  tt0320503  Action\n",
       "3  Movie            Azaad Desh Ke Gulam  1990    4  tt0330019  Action\n",
       "4  Movie               Suo ming fei dao  1991   11  tt0348147  Action"
      ]
     },
     "execution_count": 31,
     "metadata": {},
     "output_type": "execute_result"
    }
   ],
   "source": [
    "pelis.head()"
   ]
  },
  {
   "cell_type": "code",
   "execution_count": 32,
   "metadata": {},
   "outputs": [
    {
     "data": {
      "text/html": [
       "<div>\n",
       "<style scoped>\n",
       "    .dataframe tbody tr th:only-of-type {\n",
       "        vertical-align: middle;\n",
       "    }\n",
       "\n",
       "    .dataframe tbody tr th {\n",
       "        vertical-align: top;\n",
       "    }\n",
       "\n",
       "    .dataframe thead th {\n",
       "        text-align: right;\n",
       "    }\n",
       "</style>\n",
       "<table border=\"1\" class=\"dataframe\">\n",
       "  <thead>\n",
       "    <tr style=\"text-align: right;\">\n",
       "      <th></th>\n",
       "      <th>Movie ID</th>\n",
       "      <th>Actriz_Actor</th>\n",
       "    </tr>\n",
       "  </thead>\n",
       "  <tbody>\n",
       "    <tr>\n",
       "      <th>0</th>\n",
       "      <td>tt0110660</td>\n",
       "      <td>Tony Ka Fai Leung</td>\n",
       "    </tr>\n",
       "    <tr>\n",
       "      <th>1</th>\n",
       "      <td>tt0110363</td>\n",
       "      <td>Luke Edwards</td>\n",
       "    </tr>\n",
       "    <tr>\n",
       "      <th>2</th>\n",
       "      <td>tt0110397</td>\n",
       "      <td>Jennifer Barker</td>\n",
       "    </tr>\n",
       "  </tbody>\n",
       "</table>\n",
       "</div>"
      ],
      "text/plain": [
       "    Movie ID       Actriz_Actor\n",
       "0  tt0110660  Tony Ka Fai Leung\n",
       "1  tt0110363       Luke Edwards\n",
       "2  tt0110397    Jennifer Barker"
      ]
     },
     "execution_count": 32,
     "metadata": {},
     "output_type": "execute_result"
    }
   ],
   "source": [
    "peli_artista.head(3)"
   ]
  },
  {
   "cell_type": "code",
   "execution_count": 33,
   "metadata": {},
   "outputs": [
    {
     "name": "stdout",
     "output_type": "stream",
     "text": [
      "<class 'pandas.core.frame.DataFrame'>\n",
      "RangeIndex: 14529 entries, 0 to 14528\n",
      "Data columns (total 2 columns):\n",
      " #   Column        Non-Null Count  Dtype \n",
      "---  ------        --------------  ----- \n",
      " 0   Movie ID      14529 non-null  object\n",
      " 1   Actriz_Actor  14529 non-null  object\n",
      "dtypes: object(2)\n",
      "memory usage: 227.1+ KB\n"
     ]
    }
   ],
   "source": [
    "peli_artista.info()"
   ]
  },
  {
   "cell_type": "code",
   "execution_count": 34,
   "metadata": {},
   "outputs": [
    {
     "data": {
      "text/plain": [
       "np.int64(3298)"
      ]
     },
     "execution_count": 34,
     "metadata": {},
     "output_type": "execute_result"
    }
   ],
   "source": [
    "peli_artista.duplicated().sum()"
   ]
  },
  {
   "cell_type": "markdown",
   "metadata": {},
   "source": [
    "3298 duplicados de los cuales 3284 tiene como Actriz_Actor sin datos con lo que dado que solo hay una diferencia de 14 duplicados, me los cargo directamente"
   ]
  },
  {
   "cell_type": "code",
   "execution_count": null,
   "metadata": {},
   "outputs": [
    {
     "data": {
      "text/html": [
       "<div>\n",
       "<style scoped>\n",
       "    .dataframe tbody tr th:only-of-type {\n",
       "        vertical-align: middle;\n",
       "    }\n",
       "\n",
       "    .dataframe tbody tr th {\n",
       "        vertical-align: top;\n",
       "    }\n",
       "\n",
       "    .dataframe thead th {\n",
       "        text-align: right;\n",
       "    }\n",
       "</style>\n",
       "<table border=\"1\" class=\"dataframe\">\n",
       "  <thead>\n",
       "    <tr style=\"text-align: right;\">\n",
       "      <th></th>\n",
       "      <th>Movie ID</th>\n",
       "      <th>Actriz_Actor</th>\n",
       "    </tr>\n",
       "  </thead>\n",
       "  <tbody>\n",
       "    <tr>\n",
       "      <th>1607</th>\n",
       "      <td>tt12141548</td>\n",
       "      <td>Sin datos</td>\n",
       "    </tr>\n",
       "    <tr>\n",
       "      <th>1613</th>\n",
       "      <td>tt13820914</td>\n",
       "      <td>Sin datos</td>\n",
       "    </tr>\n",
       "    <tr>\n",
       "      <th>1622</th>\n",
       "      <td>tt12572368</td>\n",
       "      <td>Sin datos</td>\n",
       "    </tr>\n",
       "    <tr>\n",
       "      <th>1647</th>\n",
       "      <td>tt2043811</td>\n",
       "      <td>Sin datos</td>\n",
       "    </tr>\n",
       "    <tr>\n",
       "      <th>1655</th>\n",
       "      <td>tt2082492</td>\n",
       "      <td>Sin datos</td>\n",
       "    </tr>\n",
       "    <tr>\n",
       "      <th>...</th>\n",
       "      <td>...</td>\n",
       "      <td>...</td>\n",
       "    </tr>\n",
       "    <tr>\n",
       "      <th>14523</th>\n",
       "      <td>tt27236215</td>\n",
       "      <td>Sin datos</td>\n",
       "    </tr>\n",
       "    <tr>\n",
       "      <th>14524</th>\n",
       "      <td>tt27251096</td>\n",
       "      <td>Sin datos</td>\n",
       "    </tr>\n",
       "    <tr>\n",
       "      <th>14525</th>\n",
       "      <td>tt27250288</td>\n",
       "      <td>Sin datos</td>\n",
       "    </tr>\n",
       "    <tr>\n",
       "      <th>14526</th>\n",
       "      <td>tt27250168</td>\n",
       "      <td>Sin datos</td>\n",
       "    </tr>\n",
       "    <tr>\n",
       "      <th>14528</th>\n",
       "      <td>tt10774576</td>\n",
       "      <td>Sin datos</td>\n",
       "    </tr>\n",
       "  </tbody>\n",
       "</table>\n",
       "<p>3284 rows × 2 columns</p>\n",
       "</div>"
      ],
      "text/plain": [
       "         Movie ID Actriz_Actor\n",
       "1607   tt12141548    Sin datos\n",
       "1613   tt13820914    Sin datos\n",
       "1622   tt12572368    Sin datos\n",
       "1647    tt2043811    Sin datos\n",
       "1655    tt2082492    Sin datos\n",
       "...           ...          ...\n",
       "14523  tt27236215    Sin datos\n",
       "14524  tt27251096    Sin datos\n",
       "14525  tt27250288    Sin datos\n",
       "14526  tt27250168    Sin datos\n",
       "14528  tt10774576    Sin datos\n",
       "\n",
       "[3284 rows x 2 columns]"
      ]
     },
     "execution_count": 35,
     "metadata": {},
     "output_type": "execute_result"
    }
   ],
   "source": [
    "peli_artista[(peli_artista.duplicated()) & (peli_artista[\"Actriz_Actor\"]== \"Sin datos\") ]"
   ]
  },
  {
   "cell_type": "code",
   "execution_count": 36,
   "metadata": {},
   "outputs": [],
   "source": [
    "peli_artista.drop_duplicates(inplace=True)"
   ]
  },
  {
   "cell_type": "code",
   "execution_count": 37,
   "metadata": {},
   "outputs": [
    {
     "data": {
      "text/plain": [
       "1452"
      ]
     },
     "execution_count": 37,
     "metadata": {},
     "output_type": "execute_result"
    }
   ],
   "source": [
    "len(peli_artista[\"Movie ID\"].unique())"
   ]
  },
  {
   "cell_type": "code",
   "execution_count": 38,
   "metadata": {},
   "outputs": [
    {
     "data": {
      "text/plain": [
       "9909"
      ]
     },
     "execution_count": 38,
     "metadata": {},
     "output_type": "execute_result"
    }
   ],
   "source": [
    "len(peli_artista[\"Actriz_Actor\"].unique())"
   ]
  },
  {
   "cell_type": "code",
   "execution_count": 39,
   "metadata": {},
   "outputs": [
    {
     "data": {
      "text/plain": [
       "np.int64(0)"
      ]
     },
     "execution_count": 39,
     "metadata": {},
     "output_type": "execute_result"
    }
   ],
   "source": [
    "peli_artista.duplicated().sum()"
   ]
  },
  {
   "cell_type": "code",
   "execution_count": 40,
   "metadata": {},
   "outputs": [
    {
     "data": {
      "text/plain": [
       "(11231, 2)"
      ]
     },
     "execution_count": 40,
     "metadata": {},
     "output_type": "execute_result"
    }
   ],
   "source": [
    "peli_artista.shape"
   ]
  },
  {
   "cell_type": "markdown",
   "metadata": {},
   "source": [
    "Ahora cada peli tiene un artista"
   ]
  },
  {
   "cell_type": "code",
   "execution_count": 41,
   "metadata": {},
   "outputs": [
    {
     "data": {
      "text/html": [
       "<div>\n",
       "<style scoped>\n",
       "    .dataframe tbody tr th:only-of-type {\n",
       "        vertical-align: middle;\n",
       "    }\n",
       "\n",
       "    .dataframe tbody tr th {\n",
       "        vertical-align: top;\n",
       "    }\n",
       "\n",
       "    .dataframe thead th {\n",
       "        text-align: right;\n",
       "    }\n",
       "</style>\n",
       "<table border=\"1\" class=\"dataframe\">\n",
       "  <thead>\n",
       "    <tr style=\"text-align: right;\">\n",
       "      <th></th>\n",
       "      <th>Movie ID</th>\n",
       "      <th>Actriz_Actor</th>\n",
       "    </tr>\n",
       "  </thead>\n",
       "  <tbody>\n",
       "    <tr>\n",
       "      <th>0</th>\n",
       "      <td>tt0110660</td>\n",
       "      <td>Tony Ka Fai Leung</td>\n",
       "    </tr>\n",
       "    <tr>\n",
       "      <th>1</th>\n",
       "      <td>tt0110363</td>\n",
       "      <td>Luke Edwards</td>\n",
       "    </tr>\n",
       "    <tr>\n",
       "      <th>2</th>\n",
       "      <td>tt0110397</td>\n",
       "      <td>Jennifer Barker</td>\n",
       "    </tr>\n",
       "    <tr>\n",
       "      <th>3</th>\n",
       "      <td>tt0111045</td>\n",
       "      <td>Miklós Déri</td>\n",
       "    </tr>\n",
       "    <tr>\n",
       "      <th>4</th>\n",
       "      <td>tt0111653</td>\n",
       "      <td>Joe Bays</td>\n",
       "    </tr>\n",
       "  </tbody>\n",
       "</table>\n",
       "</div>"
      ],
      "text/plain": [
       "    Movie ID       Actriz_Actor\n",
       "0  tt0110660  Tony Ka Fai Leung\n",
       "1  tt0110363       Luke Edwards\n",
       "2  tt0110397    Jennifer Barker\n",
       "3  tt0111045        Miklós Déri\n",
       "4  tt0111653           Joe Bays"
      ]
     },
     "execution_count": 41,
     "metadata": {},
     "output_type": "execute_result"
    }
   ],
   "source": [
    "peli_artista.head()"
   ]
  },
  {
   "cell_type": "markdown",
   "metadata": {},
   "source": [
    "TRAS HABER CONOCIDO LOS DATOS Y HABER SIDO CONSCIENTES DE FUTURAS LIMPIEZAS PASAMOS A LA CREACIÓN DE LAS TABLAS QUE QUEREMOS PARA NUESTRA BASE DE DATOS"
   ]
  },
  {
   "cell_type": "markdown",
   "metadata": {},
   "source": [
    "EMPIEZO CREANDO LAS TABLAS SIN FK"
   ]
  },
  {
   "cell_type": "markdown",
   "metadata": {},
   "source": [
    "ANIO"
   ]
  },
  {
   "cell_type": "code",
   "execution_count": 42,
   "metadata": {},
   "outputs": [],
   "source": [
    "\n",
    "#crear_id(df_anti,nombre_col_antigua,nombre_col_nueva,nombre_col_id_nuevo):\n",
    "\n",
    "\n",
    "df_anio=f.crear_id(pelis,\"Año\",\"anios\",\"id_anio\")"
   ]
  },
  {
   "cell_type": "code",
   "execution_count": 43,
   "metadata": {},
   "outputs": [
    {
     "data": {
      "text/html": [
       "<div>\n",
       "<style scoped>\n",
       "    .dataframe tbody tr th:only-of-type {\n",
       "        vertical-align: middle;\n",
       "    }\n",
       "\n",
       "    .dataframe tbody tr th {\n",
       "        vertical-align: top;\n",
       "    }\n",
       "\n",
       "    .dataframe thead th {\n",
       "        text-align: right;\n",
       "    }\n",
       "</style>\n",
       "<table border=\"1\" class=\"dataframe\">\n",
       "  <thead>\n",
       "    <tr style=\"text-align: right;\">\n",
       "      <th></th>\n",
       "      <th>id_anio</th>\n",
       "      <th>anios</th>\n",
       "    </tr>\n",
       "  </thead>\n",
       "  <tbody>\n",
       "    <tr>\n",
       "      <th>0</th>\n",
       "      <td>1</td>\n",
       "      <td>1990</td>\n",
       "    </tr>\n",
       "    <tr>\n",
       "      <th>1</th>\n",
       "      <td>2</td>\n",
       "      <td>1991</td>\n",
       "    </tr>\n",
       "    <tr>\n",
       "      <th>2</th>\n",
       "      <td>3</td>\n",
       "      <td>1992</td>\n",
       "    </tr>\n",
       "    <tr>\n",
       "      <th>3</th>\n",
       "      <td>4</td>\n",
       "      <td>1993</td>\n",
       "    </tr>\n",
       "    <tr>\n",
       "      <th>4</th>\n",
       "      <td>5</td>\n",
       "      <td>1994</td>\n",
       "    </tr>\n",
       "  </tbody>\n",
       "</table>\n",
       "</div>"
      ],
      "text/plain": [
       "   id_anio  anios\n",
       "0        1   1990\n",
       "1        2   1991\n",
       "2        3   1992\n",
       "3        4   1993\n",
       "4        5   1994"
      ]
     },
     "execution_count": 43,
     "metadata": {},
     "output_type": "execute_result"
    }
   ],
   "source": [
    "df_anio.head()"
   ]
  },
  {
   "cell_type": "markdown",
   "metadata": {},
   "source": [
    "GENERO"
   ]
  },
  {
   "cell_type": "code",
   "execution_count": 44,
   "metadata": {},
   "outputs": [],
   "source": [
    "df_genero=f.crear_id(pelis,\"generos\",\"generos\",\"id_genero\")"
   ]
  },
  {
   "cell_type": "code",
   "execution_count": 45,
   "metadata": {},
   "outputs": [
    {
     "data": {
      "text/html": [
       "<div>\n",
       "<style scoped>\n",
       "    .dataframe tbody tr th:only-of-type {\n",
       "        vertical-align: middle;\n",
       "    }\n",
       "\n",
       "    .dataframe tbody tr th {\n",
       "        vertical-align: top;\n",
       "    }\n",
       "\n",
       "    .dataframe thead th {\n",
       "        text-align: right;\n",
       "    }\n",
       "</style>\n",
       "<table border=\"1\" class=\"dataframe\">\n",
       "  <thead>\n",
       "    <tr style=\"text-align: right;\">\n",
       "      <th></th>\n",
       "      <th>id_genero</th>\n",
       "      <th>generos</th>\n",
       "    </tr>\n",
       "  </thead>\n",
       "  <tbody>\n",
       "    <tr>\n",
       "      <th>0</th>\n",
       "      <td>1</td>\n",
       "      <td>Action</td>\n",
       "    </tr>\n",
       "    <tr>\n",
       "      <th>1</th>\n",
       "      <td>2</td>\n",
       "      <td>Drama</td>\n",
       "    </tr>\n",
       "    <tr>\n",
       "      <th>2</th>\n",
       "      <td>3</td>\n",
       "      <td>Comedy</td>\n",
       "    </tr>\n",
       "    <tr>\n",
       "      <th>3</th>\n",
       "      <td>4</td>\n",
       "      <td>Fantasy</td>\n",
       "    </tr>\n",
       "    <tr>\n",
       "      <th>4</th>\n",
       "      <td>5</td>\n",
       "      <td>Horror</td>\n",
       "    </tr>\n",
       "  </tbody>\n",
       "</table>\n",
       "</div>"
      ],
      "text/plain": [
       "   id_genero  generos\n",
       "0          1   Action\n",
       "1          2    Drama\n",
       "2          3   Comedy\n",
       "3          4  Fantasy\n",
       "4          5   Horror"
      ]
     },
     "execution_count": 45,
     "metadata": {},
     "output_type": "execute_result"
    }
   ],
   "source": [
    "df_genero.head()"
   ]
  },
  {
   "cell_type": "markdown",
   "metadata": {},
   "source": [
    "AÑO NACIMIENTO"
   ]
  },
  {
   "cell_type": "code",
   "execution_count": 46,
   "metadata": {},
   "outputs": [],
   "source": [
    "df_nacimiento=f.crear_id(datos_artista,\"año_nac\",\"anio_nac\",\"id_anio_nac\")"
   ]
  },
  {
   "cell_type": "code",
   "execution_count": 47,
   "metadata": {},
   "outputs": [
    {
     "data": {
      "text/html": [
       "<div>\n",
       "<style scoped>\n",
       "    .dataframe tbody tr th:only-of-type {\n",
       "        vertical-align: middle;\n",
       "    }\n",
       "\n",
       "    .dataframe tbody tr th {\n",
       "        vertical-align: top;\n",
       "    }\n",
       "\n",
       "    .dataframe thead th {\n",
       "        text-align: right;\n",
       "    }\n",
       "</style>\n",
       "<table border=\"1\" class=\"dataframe\">\n",
       "  <thead>\n",
       "    <tr style=\"text-align: right;\">\n",
       "      <th></th>\n",
       "      <th>id_anio_nac</th>\n",
       "      <th>anio_nac</th>\n",
       "    </tr>\n",
       "  </thead>\n",
       "  <tbody>\n",
       "    <tr>\n",
       "      <th>0</th>\n",
       "      <td>1</td>\n",
       "      <td>desconocido</td>\n",
       "    </tr>\n",
       "    <tr>\n",
       "      <th>1</th>\n",
       "      <td>2</td>\n",
       "      <td>1957</td>\n",
       "    </tr>\n",
       "    <tr>\n",
       "      <th>2</th>\n",
       "      <td>3</td>\n",
       "      <td>1945</td>\n",
       "    </tr>\n",
       "    <tr>\n",
       "      <th>3</th>\n",
       "      <td>4</td>\n",
       "      <td>1975</td>\n",
       "    </tr>\n",
       "    <tr>\n",
       "      <th>4</th>\n",
       "      <td>5</td>\n",
       "      <td>1969</td>\n",
       "    </tr>\n",
       "  </tbody>\n",
       "</table>\n",
       "</div>"
      ],
      "text/plain": [
       "   id_anio_nac     anio_nac\n",
       "0            1  desconocido\n",
       "1            2         1957\n",
       "2            3         1945\n",
       "3            4         1975\n",
       "4            5         1969"
      ]
     },
     "execution_count": 47,
     "metadata": {},
     "output_type": "execute_result"
    }
   ],
   "source": [
    "df_nacimiento.head()"
   ]
  },
  {
   "cell_type": "markdown",
   "metadata": {},
   "source": [
    "PREMIOS"
   ]
  },
  {
   "cell_type": "code",
   "execution_count": 48,
   "metadata": {},
   "outputs": [],
   "source": [
    "df_premios=f.crear_id(datos_artista,\"premios\",\"premios\",\"id_premio\")"
   ]
  },
  {
   "cell_type": "code",
   "execution_count": 49,
   "metadata": {},
   "outputs": [
    {
     "data": {
      "text/html": [
       "<div>\n",
       "<style scoped>\n",
       "    .dataframe tbody tr th:only-of-type {\n",
       "        vertical-align: middle;\n",
       "    }\n",
       "\n",
       "    .dataframe tbody tr th {\n",
       "        vertical-align: top;\n",
       "    }\n",
       "\n",
       "    .dataframe thead th {\n",
       "        text-align: right;\n",
       "    }\n",
       "</style>\n",
       "<table border=\"1\" class=\"dataframe\">\n",
       "  <thead>\n",
       "    <tr style=\"text-align: right;\">\n",
       "      <th></th>\n",
       "      <th>id_premio</th>\n",
       "      <th>premios</th>\n",
       "    </tr>\n",
       "  </thead>\n",
       "  <tbody>\n",
       "    <tr>\n",
       "      <th>0</th>\n",
       "      <td>1</td>\n",
       "      <td>1 nomination</td>\n",
       "    </tr>\n",
       "    <tr>\n",
       "      <th>1</th>\n",
       "      <td>2</td>\n",
       "      <td>no tiene premios</td>\n",
       "    </tr>\n",
       "    <tr>\n",
       "      <th>2</th>\n",
       "      <td>3</td>\n",
       "      <td>2 nominations</td>\n",
       "    </tr>\n",
       "    <tr>\n",
       "      <th>3</th>\n",
       "      <td>4</td>\n",
       "      <td>1 win &amp; 1 nomination</td>\n",
       "    </tr>\n",
       "    <tr>\n",
       "      <th>4</th>\n",
       "      <td>5</td>\n",
       "      <td>2 wins &amp; 1 nomination</td>\n",
       "    </tr>\n",
       "  </tbody>\n",
       "</table>\n",
       "</div>"
      ],
      "text/plain": [
       "   id_premio                premios\n",
       "0          1           1 nomination\n",
       "1          2       no tiene premios\n",
       "2          3          2 nominations\n",
       "3          4   1 win & 1 nomination\n",
       "4          5  2 wins & 1 nomination"
      ]
     },
     "execution_count": 49,
     "metadata": {},
     "output_type": "execute_result"
    }
   ],
   "source": [
    "df_premios.head()"
   ]
  },
  {
   "cell_type": "markdown",
   "metadata": {},
   "source": [
    "CALIFICACIONES"
   ]
  },
  {
   "cell_type": "code",
   "execution_count": 50,
   "metadata": {},
   "outputs": [],
   "source": [
    "df_calificaciones=f.crear_id(datos_pelis,\"cali_imdb\",\"calificaciones\",\"id_calificacion\")"
   ]
  },
  {
   "cell_type": "code",
   "execution_count": 51,
   "metadata": {},
   "outputs": [
    {
     "data": {
      "text/html": [
       "<div>\n",
       "<style scoped>\n",
       "    .dataframe tbody tr th:only-of-type {\n",
       "        vertical-align: middle;\n",
       "    }\n",
       "\n",
       "    .dataframe tbody tr th {\n",
       "        vertical-align: top;\n",
       "    }\n",
       "\n",
       "    .dataframe thead th {\n",
       "        text-align: right;\n",
       "    }\n",
       "</style>\n",
       "<table border=\"1\" class=\"dataframe\">\n",
       "  <thead>\n",
       "    <tr style=\"text-align: right;\">\n",
       "      <th></th>\n",
       "      <th>id_calificacion</th>\n",
       "      <th>calificaciones</th>\n",
       "    </tr>\n",
       "  </thead>\n",
       "  <tbody>\n",
       "    <tr>\n",
       "      <th>0</th>\n",
       "      <td>1</td>\n",
       "      <td>7.7</td>\n",
       "    </tr>\n",
       "    <tr>\n",
       "      <th>1</th>\n",
       "      <td>2</td>\n",
       "      <td>5.2</td>\n",
       "    </tr>\n",
       "    <tr>\n",
       "      <th>2</th>\n",
       "      <td>3</td>\n",
       "      <td>6.6</td>\n",
       "    </tr>\n",
       "    <tr>\n",
       "      <th>3</th>\n",
       "      <td>4</td>\n",
       "      <td>5.3</td>\n",
       "    </tr>\n",
       "    <tr>\n",
       "      <th>4</th>\n",
       "      <td>5</td>\n",
       "      <td>NaN</td>\n",
       "    </tr>\n",
       "    <tr>\n",
       "      <th>...</th>\n",
       "      <td>...</td>\n",
       "      <td>...</td>\n",
       "    </tr>\n",
       "    <tr>\n",
       "      <th>77</th>\n",
       "      <td>78</td>\n",
       "      <td>1.7</td>\n",
       "    </tr>\n",
       "    <tr>\n",
       "      <th>78</th>\n",
       "      <td>79</td>\n",
       "      <td>2.1</td>\n",
       "    </tr>\n",
       "    <tr>\n",
       "      <th>79</th>\n",
       "      <td>80</td>\n",
       "      <td>9.2</td>\n",
       "    </tr>\n",
       "    <tr>\n",
       "      <th>80</th>\n",
       "      <td>81</td>\n",
       "      <td>9.4</td>\n",
       "    </tr>\n",
       "    <tr>\n",
       "      <th>81</th>\n",
       "      <td>82</td>\n",
       "      <td>2.2</td>\n",
       "    </tr>\n",
       "  </tbody>\n",
       "</table>\n",
       "<p>82 rows × 2 columns</p>\n",
       "</div>"
      ],
      "text/plain": [
       "    id_calificacion  calificaciones\n",
       "0                 1             7.7\n",
       "1                 2             5.2\n",
       "2                 3             6.6\n",
       "3                 4             5.3\n",
       "4                 5             NaN\n",
       "..              ...             ...\n",
       "77               78             1.7\n",
       "78               79             2.1\n",
       "79               80             9.2\n",
       "80               81             9.4\n",
       "81               82             2.2\n",
       "\n",
       "[82 rows x 2 columns]"
      ]
     },
     "execution_count": 51,
     "metadata": {},
     "output_type": "execute_result"
    }
   ],
   "source": [
    "df_calificaciones"
   ]
  },
  {
   "cell_type": "markdown",
   "metadata": {},
   "source": [
    "DURACIONES"
   ]
  },
  {
   "cell_type": "code",
   "execution_count": 52,
   "metadata": {},
   "outputs": [],
   "source": [
    "df_duraciones=f.crear_id(datos_pelis,\"durac_imbd\",\"duraciones\",\"id_duracion\")"
   ]
  },
  {
   "cell_type": "code",
   "execution_count": 53,
   "metadata": {},
   "outputs": [
    {
     "data": {
      "text/html": [
       "<div>\n",
       "<style scoped>\n",
       "    .dataframe tbody tr th:only-of-type {\n",
       "        vertical-align: middle;\n",
       "    }\n",
       "\n",
       "    .dataframe tbody tr th {\n",
       "        vertical-align: top;\n",
       "    }\n",
       "\n",
       "    .dataframe thead th {\n",
       "        text-align: right;\n",
       "    }\n",
       "</style>\n",
       "<table border=\"1\" class=\"dataframe\">\n",
       "  <thead>\n",
       "    <tr style=\"text-align: right;\">\n",
       "      <th></th>\n",
       "      <th>id_duracion</th>\n",
       "      <th>duraciones</th>\n",
       "    </tr>\n",
       "  </thead>\n",
       "  <tbody>\n",
       "    <tr>\n",
       "      <th>0</th>\n",
       "      <td>1</td>\n",
       "      <td>1h 35min</td>\n",
       "    </tr>\n",
       "    <tr>\n",
       "      <th>1</th>\n",
       "      <td>2</td>\n",
       "      <td>Desconocido</td>\n",
       "    </tr>\n",
       "    <tr>\n",
       "      <th>2</th>\n",
       "      <td>3</td>\n",
       "      <td>1h 34min</td>\n",
       "    </tr>\n",
       "    <tr>\n",
       "      <th>3</th>\n",
       "      <td>4</td>\n",
       "      <td>2h 33min</td>\n",
       "    </tr>\n",
       "    <tr>\n",
       "      <th>4</th>\n",
       "      <td>5</td>\n",
       "      <td>1h 24min</td>\n",
       "    </tr>\n",
       "  </tbody>\n",
       "</table>\n",
       "</div>"
      ],
      "text/plain": [
       "   id_duracion   duraciones\n",
       "0            1     1h 35min\n",
       "1            2  Desconocido\n",
       "2            3     1h 34min\n",
       "3            4     2h 33min\n",
       "4            5     1h 24min"
      ]
     },
     "execution_count": 53,
     "metadata": {},
     "output_type": "execute_result"
    }
   ],
   "source": [
    "df_duraciones.head()"
   ]
  },
  {
   "cell_type": "markdown",
   "metadata": {},
   "source": [
    "DIRECTORES"
   ]
  },
  {
   "cell_type": "code",
   "execution_count": 54,
   "metadata": {},
   "outputs": [],
   "source": [
    "df_directores=f.crear_id(datos_pelis,\"direc_imbd\",\"directores\",\"id_director\")"
   ]
  },
  {
   "cell_type": "code",
   "execution_count": 55,
   "metadata": {},
   "outputs": [
    {
     "data": {
      "text/html": [
       "<div>\n",
       "<style scoped>\n",
       "    .dataframe tbody tr th:only-of-type {\n",
       "        vertical-align: middle;\n",
       "    }\n",
       "\n",
       "    .dataframe tbody tr th {\n",
       "        vertical-align: top;\n",
       "    }\n",
       "\n",
       "    .dataframe thead th {\n",
       "        text-align: right;\n",
       "    }\n",
       "</style>\n",
       "<table border=\"1\" class=\"dataframe\">\n",
       "  <thead>\n",
       "    <tr style=\"text-align: right;\">\n",
       "      <th></th>\n",
       "      <th>id_director</th>\n",
       "      <th>directores</th>\n",
       "    </tr>\n",
       "  </thead>\n",
       "  <tbody>\n",
       "    <tr>\n",
       "      <th>0</th>\n",
       "      <td>1</td>\n",
       "      <td>Alejandro Todd</td>\n",
       "    </tr>\n",
       "    <tr>\n",
       "      <th>1</th>\n",
       "      <td>2</td>\n",
       "      <td>P. Vasu</td>\n",
       "    </tr>\n",
       "    <tr>\n",
       "      <th>2</th>\n",
       "      <td>3</td>\n",
       "      <td>Jesús Fragoso Montoya</td>\n",
       "    </tr>\n",
       "    <tr>\n",
       "      <th>3</th>\n",
       "      <td>4</td>\n",
       "      <td>S.A. Chandrashekhar</td>\n",
       "    </tr>\n",
       "    <tr>\n",
       "      <th>4</th>\n",
       "      <td>5</td>\n",
       "      <td>Desconocido</td>\n",
       "    </tr>\n",
       "  </tbody>\n",
       "</table>\n",
       "</div>"
      ],
      "text/plain": [
       "   id_director             directores\n",
       "0            1         Alejandro Todd\n",
       "1            2                P. Vasu\n",
       "2            3  Jesús Fragoso Montoya\n",
       "3            4    S.A. Chandrashekhar\n",
       "4            5            Desconocido"
      ]
     },
     "execution_count": 55,
     "metadata": {},
     "output_type": "execute_result"
    }
   ],
   "source": [
    "df_directores.head()"
   ]
  },
  {
   "cell_type": "markdown",
   "metadata": {},
   "source": [
    "GUIONISTAS"
   ]
  },
  {
   "cell_type": "code",
   "execution_count": 56,
   "metadata": {},
   "outputs": [],
   "source": [
    "df_guionistas=f.crear_id(datos_pelis,\"guion_imbd\",\"guionistas\",\"id_guionista\")"
   ]
  },
  {
   "cell_type": "code",
   "execution_count": 57,
   "metadata": {},
   "outputs": [
    {
     "data": {
      "text/html": [
       "<div>\n",
       "<style scoped>\n",
       "    .dataframe tbody tr th:only-of-type {\n",
       "        vertical-align: middle;\n",
       "    }\n",
       "\n",
       "    .dataframe tbody tr th {\n",
       "        vertical-align: top;\n",
       "    }\n",
       "\n",
       "    .dataframe thead th {\n",
       "        text-align: right;\n",
       "    }\n",
       "</style>\n",
       "<table border=\"1\" class=\"dataframe\">\n",
       "  <thead>\n",
       "    <tr style=\"text-align: right;\">\n",
       "      <th></th>\n",
       "      <th>id_guionista</th>\n",
       "      <th>guionistas</th>\n",
       "    </tr>\n",
       "  </thead>\n",
       "  <tbody>\n",
       "    <tr>\n",
       "      <th>0</th>\n",
       "      <td>1</td>\n",
       "      <td>Óscar FentanesJuan Garrido</td>\n",
       "    </tr>\n",
       "    <tr>\n",
       "      <th>1</th>\n",
       "      <td>2</td>\n",
       "      <td>SathyarajGautamiAnandraj</td>\n",
       "    </tr>\n",
       "    <tr>\n",
       "      <th>2</th>\n",
       "      <td>3</td>\n",
       "      <td>Fernando Galiana</td>\n",
       "    </tr>\n",
       "    <tr>\n",
       "      <th>3</th>\n",
       "      <td>4</td>\n",
       "      <td>RekhaRishi KapoorJackie Shroff</td>\n",
       "    </tr>\n",
       "    <tr>\n",
       "      <th>4</th>\n",
       "      <td>5</td>\n",
       "      <td>Desconocido</td>\n",
       "    </tr>\n",
       "  </tbody>\n",
       "</table>\n",
       "</div>"
      ],
      "text/plain": [
       "   id_guionista                      guionistas\n",
       "0             1      Óscar FentanesJuan Garrido\n",
       "1             2        SathyarajGautamiAnandraj\n",
       "2             3                Fernando Galiana\n",
       "3             4  RekhaRishi KapoorJackie Shroff\n",
       "4             5                     Desconocido"
      ]
     },
     "execution_count": 57,
     "metadata": {},
     "output_type": "execute_result"
    }
   ],
   "source": [
    "df_guionistas.head()"
   ]
  },
  {
   "cell_type": "markdown",
   "metadata": {},
   "source": [
    "AHORA VAMOS A CREAR LAS TABLAS INTERMEDIAS (DATOS PELIS)"
   ]
  },
  {
   "cell_type": "code",
   "execution_count": 58,
   "metadata": {},
   "outputs": [
    {
     "data": {
      "text/html": [
       "<div>\n",
       "<style scoped>\n",
       "    .dataframe tbody tr th:only-of-type {\n",
       "        vertical-align: middle;\n",
       "    }\n",
       "\n",
       "    .dataframe tbody tr th {\n",
       "        vertical-align: top;\n",
       "    }\n",
       "\n",
       "    .dataframe thead th {\n",
       "        text-align: right;\n",
       "    }\n",
       "</style>\n",
       "<table border=\"1\" class=\"dataframe\">\n",
       "  <thead>\n",
       "    <tr style=\"text-align: right;\">\n",
       "      <th></th>\n",
       "      <th>titulo</th>\n",
       "      <th>cali_imdb</th>\n",
       "      <th>direc_imbd</th>\n",
       "      <th>guion_imbd</th>\n",
       "      <th>argum_imbd</th>\n",
       "      <th>durac_imbd</th>\n",
       "      <th>id_pelicula</th>\n",
       "    </tr>\n",
       "  </thead>\n",
       "  <tbody>\n",
       "    <tr>\n",
       "      <th>0</th>\n",
       "      <td>Las Travesuras de Super Chido</td>\n",
       "      <td>7.7</td>\n",
       "      <td>Alejandro Todd</td>\n",
       "      <td>Óscar FentanesJuan Garrido</td>\n",
       "      <td>Desconocido</td>\n",
       "      <td>1h 35min</td>\n",
       "      <td>tt0320656</td>\n",
       "    </tr>\n",
       "    <tr>\n",
       "      <th>1</th>\n",
       "      <td>Velai Kidaichiruchu</td>\n",
       "      <td>5.2</td>\n",
       "      <td>P. Vasu</td>\n",
       "      <td>SathyarajGautamiAnandraj</td>\n",
       "      <td>Baasha, a gangster, controls a whole village w...</td>\n",
       "      <td>Desconocido</td>\n",
       "      <td>tt0318803</td>\n",
       "    </tr>\n",
       "    <tr>\n",
       "      <th>2</th>\n",
       "      <td>Sor Batalla</td>\n",
       "      <td>6.6</td>\n",
       "      <td>Jesús Fragoso Montoya</td>\n",
       "      <td>Fernando Galiana</td>\n",
       "      <td>As punishment for participating in a contest T...</td>\n",
       "      <td>1h 34min</td>\n",
       "      <td>tt0320503</td>\n",
       "    </tr>\n",
       "    <tr>\n",
       "      <th>3</th>\n",
       "      <td>Azaad Desh Ke Gulam</td>\n",
       "      <td>5.3</td>\n",
       "      <td>S.A. Chandrashekhar</td>\n",
       "      <td>RekhaRishi KapoorJackie Shroff</td>\n",
       "      <td>Bharti, a law student from a rich family, live...</td>\n",
       "      <td>2h 33min</td>\n",
       "      <td>tt0330019</td>\n",
       "    </tr>\n",
       "    <tr>\n",
       "      <th>4</th>\n",
       "      <td>Suo ming fei dao</td>\n",
       "      <td>NaN</td>\n",
       "      <td>Desconocido</td>\n",
       "      <td>Desconocido</td>\n",
       "      <td>Desconocido</td>\n",
       "      <td>1h 24min</td>\n",
       "      <td>tt0348147</td>\n",
       "    </tr>\n",
       "  </tbody>\n",
       "</table>\n",
       "</div>"
      ],
      "text/plain": [
       "                          titulo  cali_imdb             direc_imbd  \\\n",
       "0  Las Travesuras de Super Chido        7.7         Alejandro Todd   \n",
       "1            Velai Kidaichiruchu        5.2                P. Vasu   \n",
       "2                    Sor Batalla        6.6  Jesús Fragoso Montoya   \n",
       "3            Azaad Desh Ke Gulam        5.3    S.A. Chandrashekhar   \n",
       "4               Suo ming fei dao        NaN            Desconocido   \n",
       "\n",
       "                       guion_imbd  \\\n",
       "0      Óscar FentanesJuan Garrido   \n",
       "1        SathyarajGautamiAnandraj   \n",
       "2                Fernando Galiana   \n",
       "3  RekhaRishi KapoorJackie Shroff   \n",
       "4                     Desconocido   \n",
       "\n",
       "                                          argum_imbd   durac_imbd id_pelicula  \n",
       "0                                        Desconocido     1h 35min   tt0320656  \n",
       "1  Baasha, a gangster, controls a whole village w...  Desconocido   tt0318803  \n",
       "2  As punishment for participating in a contest T...     1h 34min   tt0320503  \n",
       "3  Bharti, a law student from a rich family, live...     2h 33min   tt0330019  \n",
       "4                                        Desconocido     1h 24min   tt0348147  "
      ]
     },
     "execution_count": 58,
     "metadata": {},
     "output_type": "execute_result"
    }
   ],
   "source": [
    "datos_pelis.head()"
   ]
  },
  {
   "cell_type": "code",
   "execution_count": 59,
   "metadata": {},
   "outputs": [],
   "source": [
    "dicc_cali = df_calificaciones.set_index('calificaciones')['id_calificacion'].to_dict()\n",
    "dicc_dur = df_duraciones.set_index('duraciones')['id_duracion'].to_dict()\n",
    "dicc_dir = df_directores.set_index('directores')['id_director'].to_dict()\n",
    "dicc_gui = df_guionistas.set_index('guionistas')['id_guionista'].to_dict()"
   ]
  },
  {
   "cell_type": "code",
   "execution_count": 60,
   "metadata": {},
   "outputs": [],
   "source": [
    "datos_pelis['id_calificacion'] = datos_pelis['cali_imdb'].map(dicc_cali)\n",
    "datos_pelis['id_duracion'] = datos_pelis['durac_imbd'].map(dicc_dur)\n",
    "datos_pelis['id_director'] = datos_pelis['direc_imbd'].map(dicc_dir)\n",
    "datos_pelis['id_guionista'] = datos_pelis['guion_imbd'].map(dicc_gui)\n"
   ]
  },
  {
   "cell_type": "code",
   "execution_count": 61,
   "metadata": {},
   "outputs": [],
   "source": [
    "datos_pelis.drop(columns=\"cali_imdb\", inplace=True)\n",
    "datos_pelis.drop(columns=\"durac_imbd\", inplace=True)\n",
    "datos_pelis.drop(columns=\"direc_imbd\", inplace=True)\n",
    "datos_pelis.drop(columns=\"guion_imbd\", inplace=True)"
   ]
  },
  {
   "cell_type": "code",
   "execution_count": 62,
   "metadata": {},
   "outputs": [
    {
     "data": {
      "text/html": [
       "<div>\n",
       "<style scoped>\n",
       "    .dataframe tbody tr th:only-of-type {\n",
       "        vertical-align: middle;\n",
       "    }\n",
       "\n",
       "    .dataframe tbody tr th {\n",
       "        vertical-align: top;\n",
       "    }\n",
       "\n",
       "    .dataframe thead th {\n",
       "        text-align: right;\n",
       "    }\n",
       "</style>\n",
       "<table border=\"1\" class=\"dataframe\">\n",
       "  <thead>\n",
       "    <tr style=\"text-align: right;\">\n",
       "      <th></th>\n",
       "      <th>titulo</th>\n",
       "      <th>argum_imbd</th>\n",
       "      <th>id_pelicula</th>\n",
       "      <th>id_calificacion</th>\n",
       "      <th>id_duracion</th>\n",
       "      <th>id_director</th>\n",
       "      <th>id_guionista</th>\n",
       "    </tr>\n",
       "  </thead>\n",
       "  <tbody>\n",
       "    <tr>\n",
       "      <th>0</th>\n",
       "      <td>Las Travesuras de Super Chido</td>\n",
       "      <td>Desconocido</td>\n",
       "      <td>tt0320656</td>\n",
       "      <td>1</td>\n",
       "      <td>1</td>\n",
       "      <td>1</td>\n",
       "      <td>1</td>\n",
       "    </tr>\n",
       "    <tr>\n",
       "      <th>1</th>\n",
       "      <td>Velai Kidaichiruchu</td>\n",
       "      <td>Baasha, a gangster, controls a whole village w...</td>\n",
       "      <td>tt0318803</td>\n",
       "      <td>2</td>\n",
       "      <td>2</td>\n",
       "      <td>2</td>\n",
       "      <td>2</td>\n",
       "    </tr>\n",
       "    <tr>\n",
       "      <th>2</th>\n",
       "      <td>Sor Batalla</td>\n",
       "      <td>As punishment for participating in a contest T...</td>\n",
       "      <td>tt0320503</td>\n",
       "      <td>3</td>\n",
       "      <td>3</td>\n",
       "      <td>3</td>\n",
       "      <td>3</td>\n",
       "    </tr>\n",
       "    <tr>\n",
       "      <th>3</th>\n",
       "      <td>Azaad Desh Ke Gulam</td>\n",
       "      <td>Bharti, a law student from a rich family, live...</td>\n",
       "      <td>tt0330019</td>\n",
       "      <td>4</td>\n",
       "      <td>4</td>\n",
       "      <td>4</td>\n",
       "      <td>4</td>\n",
       "    </tr>\n",
       "    <tr>\n",
       "      <th>4</th>\n",
       "      <td>Suo ming fei dao</td>\n",
       "      <td>Desconocido</td>\n",
       "      <td>tt0348147</td>\n",
       "      <td>5</td>\n",
       "      <td>5</td>\n",
       "      <td>5</td>\n",
       "      <td>5</td>\n",
       "    </tr>\n",
       "  </tbody>\n",
       "</table>\n",
       "</div>"
      ],
      "text/plain": [
       "                          titulo  \\\n",
       "0  Las Travesuras de Super Chido   \n",
       "1            Velai Kidaichiruchu   \n",
       "2                    Sor Batalla   \n",
       "3            Azaad Desh Ke Gulam   \n",
       "4               Suo ming fei dao   \n",
       "\n",
       "                                          argum_imbd id_pelicula  \\\n",
       "0                                        Desconocido   tt0320656   \n",
       "1  Baasha, a gangster, controls a whole village w...   tt0318803   \n",
       "2  As punishment for participating in a contest T...   tt0320503   \n",
       "3  Bharti, a law student from a rich family, live...   tt0330019   \n",
       "4                                        Desconocido   tt0348147   \n",
       "\n",
       "   id_calificacion  id_duracion  id_director  id_guionista  \n",
       "0                1            1            1             1  \n",
       "1                2            2            2             2  \n",
       "2                3            3            3             3  \n",
       "3                4            4            4             4  \n",
       "4                5            5            5             5  "
      ]
     },
     "execution_count": 62,
     "metadata": {},
     "output_type": "execute_result"
    }
   ],
   "source": [
    "datos_pelis.head()"
   ]
  },
  {
   "cell_type": "markdown",
   "metadata": {},
   "source": [
    "AHORA VAMOS A CREAR LAS TABLAS INTERMEDIAS (PELIS)"
   ]
  },
  {
   "cell_type": "code",
   "execution_count": 65,
   "metadata": {},
   "outputs": [
    {
     "data": {
      "text/html": [
       "<div>\n",
       "<style scoped>\n",
       "    .dataframe tbody tr th:only-of-type {\n",
       "        vertical-align: middle;\n",
       "    }\n",
       "\n",
       "    .dataframe tbody tr th {\n",
       "        vertical-align: top;\n",
       "    }\n",
       "\n",
       "    .dataframe thead th {\n",
       "        text-align: right;\n",
       "    }\n",
       "</style>\n",
       "<table border=\"1\" class=\"dataframe\">\n",
       "  <thead>\n",
       "    <tr style=\"text-align: right;\">\n",
       "      <th></th>\n",
       "      <th>actr</th>\n",
       "      <th>año_nac</th>\n",
       "      <th>conocido_por</th>\n",
       "      <th>que_hace</th>\n",
       "      <th>premios</th>\n",
       "    </tr>\n",
       "  </thead>\n",
       "  <tbody>\n",
       "    <tr>\n",
       "      <th>0</th>\n",
       "      <td>A. Gunaseelan</td>\n",
       "      <td>desconocido</td>\n",
       "      <td>'Mandela'</td>\n",
       "      <td>Casting Department, Actress, Casting Director</td>\n",
       "      <td>1 nomination</td>\n",
       "    </tr>\n",
       "    <tr>\n",
       "      <th>1</th>\n",
       "      <td>A. Michelle Harleston</td>\n",
       "      <td>desconocido</td>\n",
       "      <td>'Murder by Numbers', 'The Mark of a Killer', '...</td>\n",
       "      <td>Actor</td>\n",
       "      <td>no tiene premios</td>\n",
       "    </tr>\n",
       "    <tr>\n",
       "      <th>2</th>\n",
       "      <td>A.C. Peterson</td>\n",
       "      <td>desconocido</td>\n",
       "      <td>'Narc', 'Shanghai Noon', 'Shooter', 'The Last ...</td>\n",
       "      <td>Actor</td>\n",
       "      <td>no tiene premios</td>\n",
       "    </tr>\n",
       "    <tr>\n",
       "      <th>3</th>\n",
       "      <td>A.V.S. Subramanyam</td>\n",
       "      <td>1957</td>\n",
       "      <td>'Roommates', 'Uncle', 'Ori Nee Prema Bangaramk...</td>\n",
       "      <td>Actor, Director, Writer</td>\n",
       "      <td>no tiene premios</td>\n",
       "    </tr>\n",
       "    <tr>\n",
       "      <th>4</th>\n",
       "      <td>Øyvind Øvrebø</td>\n",
       "      <td>desconocido</td>\n",
       "      <td>'Tingen, Edderkoppen', 'Demenskoret', 'Kristia...</td>\n",
       "      <td>Actress, Additional Crew</td>\n",
       "      <td>no tiene premios</td>\n",
       "    </tr>\n",
       "  </tbody>\n",
       "</table>\n",
       "</div>"
      ],
      "text/plain": [
       "                    actr      año_nac  \\\n",
       "0          A. Gunaseelan  desconocido   \n",
       "1  A. Michelle Harleston  desconocido   \n",
       "2          A.C. Peterson  desconocido   \n",
       "3     A.V.S. Subramanyam         1957   \n",
       "4          Øyvind Øvrebø  desconocido   \n",
       "\n",
       "                                        conocido_por  \\\n",
       "0                                          'Mandela'   \n",
       "1  'Murder by Numbers', 'The Mark of a Killer', '...   \n",
       "2  'Narc', 'Shanghai Noon', 'Shooter', 'The Last ...   \n",
       "3  'Roommates', 'Uncle', 'Ori Nee Prema Bangaramk...   \n",
       "4  'Tingen, Edderkoppen', 'Demenskoret', 'Kristia...   \n",
       "\n",
       "                                        que_hace           premios  \n",
       "0  Casting Department, Actress, Casting Director      1 nomination  \n",
       "1                                          Actor  no tiene premios  \n",
       "2                                          Actor  no tiene premios  \n",
       "3                        Actor, Director, Writer  no tiene premios  \n",
       "4                       Actress, Additional Crew  no tiene premios  "
      ]
     },
     "execution_count": 65,
     "metadata": {},
     "output_type": "execute_result"
    }
   ],
   "source": [
    "datos_artista.head()"
   ]
  },
  {
   "cell_type": "code",
   "execution_count": 67,
   "metadata": {},
   "outputs": [],
   "source": [
    "dicc_naci = df_nacimiento.set_index('anio_nac')['id_anio_nac'].to_dict()\n",
    "dicc_prem = df_premios.set_index('premios')['id_premio'].to_dict()"
   ]
  },
  {
   "cell_type": "code",
   "execution_count": 68,
   "metadata": {},
   "outputs": [],
   "source": [
    "datos_artista['id_nacimiento'] = datos_artista['año_nac'].map(dicc_naci)\n",
    "datos_artista['id_premio'] = datos_artista['premios'].map(dicc_prem)\n",
    "\n"
   ]
  },
  {
   "cell_type": "code",
   "execution_count": 69,
   "metadata": {},
   "outputs": [],
   "source": [
    "datos_artista.drop(columns=\"año_nac\", inplace=True)\n",
    "datos_artista.drop(columns=\"premios\", inplace=True)\n"
   ]
  },
  {
   "cell_type": "code",
   "execution_count": 70,
   "metadata": {},
   "outputs": [
    {
     "data": {
      "text/html": [
       "<div>\n",
       "<style scoped>\n",
       "    .dataframe tbody tr th:only-of-type {\n",
       "        vertical-align: middle;\n",
       "    }\n",
       "\n",
       "    .dataframe tbody tr th {\n",
       "        vertical-align: top;\n",
       "    }\n",
       "\n",
       "    .dataframe thead th {\n",
       "        text-align: right;\n",
       "    }\n",
       "</style>\n",
       "<table border=\"1\" class=\"dataframe\">\n",
       "  <thead>\n",
       "    <tr style=\"text-align: right;\">\n",
       "      <th></th>\n",
       "      <th>actr</th>\n",
       "      <th>conocido_por</th>\n",
       "      <th>que_hace</th>\n",
       "      <th>id_nacimiento</th>\n",
       "      <th>id_premio</th>\n",
       "    </tr>\n",
       "  </thead>\n",
       "  <tbody>\n",
       "    <tr>\n",
       "      <th>0</th>\n",
       "      <td>A. Gunaseelan</td>\n",
       "      <td>'Mandela'</td>\n",
       "      <td>Casting Department, Actress, Casting Director</td>\n",
       "      <td>1</td>\n",
       "      <td>1</td>\n",
       "    </tr>\n",
       "    <tr>\n",
       "      <th>1</th>\n",
       "      <td>A. Michelle Harleston</td>\n",
       "      <td>'Murder by Numbers', 'The Mark of a Killer', '...</td>\n",
       "      <td>Actor</td>\n",
       "      <td>1</td>\n",
       "      <td>2</td>\n",
       "    </tr>\n",
       "    <tr>\n",
       "      <th>2</th>\n",
       "      <td>A.C. Peterson</td>\n",
       "      <td>'Narc', 'Shanghai Noon', 'Shooter', 'The Last ...</td>\n",
       "      <td>Actor</td>\n",
       "      <td>1</td>\n",
       "      <td>2</td>\n",
       "    </tr>\n",
       "    <tr>\n",
       "      <th>3</th>\n",
       "      <td>A.V.S. Subramanyam</td>\n",
       "      <td>'Roommates', 'Uncle', 'Ori Nee Prema Bangaramk...</td>\n",
       "      <td>Actor, Director, Writer</td>\n",
       "      <td>2</td>\n",
       "      <td>2</td>\n",
       "    </tr>\n",
       "    <tr>\n",
       "      <th>4</th>\n",
       "      <td>Øyvind Øvrebø</td>\n",
       "      <td>'Tingen, Edderkoppen', 'Demenskoret', 'Kristia...</td>\n",
       "      <td>Actress, Additional Crew</td>\n",
       "      <td>1</td>\n",
       "      <td>2</td>\n",
       "    </tr>\n",
       "  </tbody>\n",
       "</table>\n",
       "</div>"
      ],
      "text/plain": [
       "                    actr                                       conocido_por  \\\n",
       "0          A. Gunaseelan                                          'Mandela'   \n",
       "1  A. Michelle Harleston  'Murder by Numbers', 'The Mark of a Killer', '...   \n",
       "2          A.C. Peterson  'Narc', 'Shanghai Noon', 'Shooter', 'The Last ...   \n",
       "3     A.V.S. Subramanyam  'Roommates', 'Uncle', 'Ori Nee Prema Bangaramk...   \n",
       "4          Øyvind Øvrebø  'Tingen, Edderkoppen', 'Demenskoret', 'Kristia...   \n",
       "\n",
       "                                        que_hace  id_nacimiento  id_premio  \n",
       "0  Casting Department, Actress, Casting Director              1          1  \n",
       "1                                          Actor              1          2  \n",
       "2                                          Actor              1          2  \n",
       "3                        Actor, Director, Writer              2          2  \n",
       "4                       Actress, Additional Crew              1          2  "
      ]
     },
     "execution_count": 70,
     "metadata": {},
     "output_type": "execute_result"
    }
   ],
   "source": [
    "datos_artista.head()"
   ]
  },
  {
   "cell_type": "markdown",
   "metadata": {},
   "source": []
  },
  {
   "cell_type": "code",
   "execution_count": null,
   "metadata": {},
   "outputs": [],
   "source": []
  },
  {
   "cell_type": "markdown",
   "metadata": {},
   "source": [
    "### Fase 5: Creación de una Base de Datos\n",
    "Organiza toda la información recopilada en una base de datos SQL bien estructurada. Define las tablas y relaciones necesarias para almacenar los datos de manera eficiente.\n",
    "\n",
    "---\n",
    "\n",
    "### Fase 6: Inserción de Datos en la Base de Datos\n",
    "Inserta todos los datos recopilados en la base de datos diseñada.\n",
    "\n",
    "---"
   ]
  },
  {
   "cell_type": "code",
   "execution_count": null,
   "metadata": {},
   "outputs": [],
   "source": []
  },
  {
   "cell_type": "markdown",
   "metadata": {},
   "source": [
    "### Fase 7: Consultas SQL\n",
    "Realiza consultas para responder preguntas específicas, como:\n",
    "- ¿Qué géneros han recibido más premios Oscar?\n",
    "- ¿Qué género tiene las mejores calificaciones en IMDB?\n",
    "- ¿Qué director tiene más películas premiadas?\n",
    "- ¿Cuál es la película mejor valorada en IMDB?\n",
    "- ¿Qué actor/actriz ha recibido más premios?"
   ]
  }
 ],
 "metadata": {
  "kernelspec": {
   "display_name": "Python 3",
   "language": "python",
   "name": "python3"
  },
  "language_info": {
   "codemirror_mode": {
    "name": "ipython",
    "version": 3
   },
   "file_extension": ".py",
   "mimetype": "text/x-python",
   "name": "python",
   "nbconvert_exporter": "python",
   "pygments_lexer": "ipython3",
   "version": "3.11.9"
  }
 },
 "nbformat": 4,
 "nbformat_minor": 2
}
